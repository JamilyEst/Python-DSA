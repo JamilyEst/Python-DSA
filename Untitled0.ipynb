{
  "nbformat": 4,
  "nbformat_minor": 0,
  "metadata": {
    "colab": {
      "provenance": [],
      "authorship_tag": "ABX9TyMhNXPuqYBKMNkpf2A2tQz9",
      "include_colab_link": true
    },
    "kernelspec": {
      "name": "python3",
      "display_name": "Python 3"
    },
    "language_info": {
      "name": "python"
    }
  },
  "cells": [
    {
      "cell_type": "markdown",
      "metadata": {
        "id": "view-in-github",
        "colab_type": "text"
      },
      "source": [
        "<a href=\"https://colab.research.google.com/github/JamilyEst/Python-DSA/blob/main/Untitled0.ipynb\" target=\"_parent\"><img src=\"https://colab.research.google.com/assets/colab-badge.svg\" alt=\"Open In Colab\"/></a>"
      ]
    },
    {
      "cell_type": "markdown",
      "source": [
        "##**Listas de Listas**"
      ],
      "metadata": {
        "id": "_JUdEJ7WFzO5"
      }
    },
    {
      "cell_type": "code",
      "execution_count": 1,
      "metadata": {
        "id": "ke4jyZ-gDFih"
      },
      "outputs": [],
      "source": [
        "Listas = [[1,2,3],[10,15,14],[10.1,8.7,2.3]]"
      ]
    },
    {
      "cell_type": "markdown",
      "source": [
        "Imprimindo uma lista"
      ],
      "metadata": {
        "id": "ZwhQSheTHMFp"
      }
    },
    {
      "cell_type": "code",
      "source": [
        "Listas"
      ],
      "metadata": {
        "colab": {
          "base_uri": "https://localhost:8080/"
        },
        "id": "47Emx7mAF9-2",
        "outputId": "ed3091e8-51b6-4c39-d911-0e24c808966c"
      },
      "execution_count": 2,
      "outputs": [
        {
          "output_type": "execute_result",
          "data": {
            "text/plain": [
              "[[1, 2, 3], [10, 15, 14], [10.1, 8.7, 2.3]]"
            ]
          },
          "metadata": {},
          "execution_count": 2
        }
      ]
    },
    {
      "cell_type": "markdown",
      "source": [
        "Atribuindo um ítem da lista a uma variável"
      ],
      "metadata": {
        "id": "AhIRRgKQGEax"
      }
    },
    {
      "cell_type": "code",
      "source": [
        "a = Listas[0]"
      ],
      "metadata": {
        "id": "8n-OFZrIGGhw"
      },
      "execution_count": 5,
      "outputs": []
    },
    {
      "cell_type": "code",
      "source": [
        "a"
      ],
      "metadata": {
        "colab": {
          "base_uri": "https://localhost:8080/"
        },
        "id": "lF0jyooNGKn_",
        "outputId": "3b49f00b-8989-4686-ee8b-d1afec316d5c"
      },
      "execution_count": 6,
      "outputs": [
        {
          "output_type": "execute_result",
          "data": {
            "text/plain": [
              "[1, 2, 3]"
            ]
          },
          "metadata": {},
          "execution_count": 6
        }
      ]
    },
    {
      "cell_type": "code",
      "source": [
        "b = a[0]"
      ],
      "metadata": {
        "id": "aCZmD0HRGUSP"
      },
      "execution_count": 7,
      "outputs": []
    },
    {
      "cell_type": "code",
      "source": [
        "b"
      ],
      "metadata": {
        "colab": {
          "base_uri": "https://localhost:8080/"
        },
        "id": "InDh5_odGV4v",
        "outputId": "b64c3a2c-50cb-4e1b-87f5-84e0fc266d0f"
      },
      "execution_count": 8,
      "outputs": [
        {
          "output_type": "execute_result",
          "data": {
            "text/plain": [
              "1"
            ]
          },
          "metadata": {},
          "execution_count": 8
        }
      ]
    },
    {
      "cell_type": "code",
      "source": [
        "list1 = Listas[1]"
      ],
      "metadata": {
        "id": "ZM9sOQAlGXO_"
      },
      "execution_count": 9,
      "outputs": []
    },
    {
      "cell_type": "code",
      "source": [
        "list1"
      ],
      "metadata": {
        "colab": {
          "base_uri": "https://localhost:8080/"
        },
        "id": "MHhRMNGxGbwn",
        "outputId": "e7ac3e5e-05dc-43c6-ef25-4f3e9656c01f"
      },
      "execution_count": 10,
      "outputs": [
        {
          "output_type": "execute_result",
          "data": {
            "text/plain": [
              "[10, 15, 14]"
            ]
          },
          "metadata": {},
          "execution_count": 10
        }
      ]
    },
    {
      "cell_type": "code",
      "source": [
        "list1[0]"
      ],
      "metadata": {
        "colab": {
          "base_uri": "https://localhost:8080/"
        },
        "id": "gbGw97ZwGdFv",
        "outputId": "a25097c3-13c5-4a62-b9f8-ecf38457dc1f"
      },
      "execution_count": 12,
      "outputs": [
        {
          "output_type": "execute_result",
          "data": {
            "text/plain": [
              "10"
            ]
          },
          "metadata": {},
          "execution_count": 12
        }
      ]
    },
    {
      "cell_type": "markdown",
      "source": [
        "**Operações com Listas**\n",
        "\n",
        "```\n",
        "# Isto está formatado como código\n",
        "```\n",
        "\n",
        "**"
      ],
      "metadata": {
        "id": "NCoNb7yGG7E4"
      }
    },
    {
      "cell_type": "code",
      "source": [
        "a = Listas[0][0]"
      ],
      "metadata": {
        "id": "4QZzHj8OGiUQ"
      },
      "execution_count": 13,
      "outputs": []
    },
    {
      "cell_type": "code",
      "source": [
        "a"
      ],
      "metadata": {
        "colab": {
          "base_uri": "https://localhost:8080/"
        },
        "id": "isVZd5gRGrng",
        "outputId": "a09e2861-507b-4349-e2b8-572d77a7385c"
      },
      "execution_count": 14,
      "outputs": [
        {
          "output_type": "execute_result",
          "data": {
            "text/plain": [
              "1"
            ]
          },
          "metadata": {},
          "execution_count": 14
        }
      ]
    },
    {
      "cell_type": "code",
      "source": [
        "b = Listas[0][2]+10"
      ],
      "metadata": {
        "id": "RF6E-nd2Gr6A"
      },
      "execution_count": 15,
      "outputs": []
    },
    {
      "cell_type": "code",
      "source": [
        "b"
      ],
      "metadata": {
        "colab": {
          "base_uri": "https://localhost:8080/"
        },
        "id": "qRFv_sb4Gv-I",
        "outputId": "ffc01827-eeb8-40a2-c14d-d00d66dd08f8"
      },
      "execution_count": 16,
      "outputs": [
        {
          "output_type": "execute_result",
          "data": {
            "text/plain": [
              "13"
            ]
          },
          "metadata": {},
          "execution_count": 16
        }
      ]
    },
    {
      "cell_type": "markdown",
      "source": [
        "**Concatenando Listas**\n"
      ],
      "metadata": {
        "id": "5nAymSSQHVWh"
      }
    },
    {
      "cell_type": "code",
      "source": [
        "lista_s1 = [34,32,56]"
      ],
      "metadata": {
        "id": "qfiG26mdHeXD"
      },
      "execution_count": 17,
      "outputs": []
    },
    {
      "cell_type": "code",
      "source": [
        "lista_s1"
      ],
      "metadata": {
        "colab": {
          "base_uri": "https://localhost:8080/"
        },
        "id": "ksCvVVXqHooA",
        "outputId": "31af342d-8e68-4a0e-9855-1ef43b986466"
      },
      "execution_count": 18,
      "outputs": [
        {
          "output_type": "execute_result",
          "data": {
            "text/plain": [
              "[34, 32, 56]"
            ]
          },
          "metadata": {},
          "execution_count": 18
        }
      ]
    },
    {
      "cell_type": "code",
      "source": [
        "lista_s2 = [21,90,51]"
      ],
      "metadata": {
        "id": "VdyB-zWHHqDw"
      },
      "execution_count": 19,
      "outputs": []
    },
    {
      "cell_type": "code",
      "source": [
        "lista_s2"
      ],
      "metadata": {
        "colab": {
          "base_uri": "https://localhost:8080/"
        },
        "id": "-vVrVt0qHteg",
        "outputId": "0efdc55f-165b-49ed-f35e-889ec9cabc55"
      },
      "execution_count": 20,
      "outputs": [
        {
          "output_type": "execute_result",
          "data": {
            "text/plain": [
              "[21, 90, 51]"
            ]
          },
          "metadata": {},
          "execution_count": 20
        }
      ]
    },
    {
      "cell_type": "code",
      "source": [
        "lista_total = lista_s1 + lista_s2"
      ],
      "metadata": {
        "id": "r4s3lzT4Hu13"
      },
      "execution_count": 21,
      "outputs": []
    },
    {
      "cell_type": "code",
      "source": [
        "lista_total"
      ],
      "metadata": {
        "colab": {
          "base_uri": "https://localhost:8080/"
        },
        "id": "UovejLCMHzjH",
        "outputId": "7a779973-6c22-4fa0-d2c3-512cfe9f3648"
      },
      "execution_count": 22,
      "outputs": [
        {
          "output_type": "execute_result",
          "data": {
            "text/plain": [
              "[34, 32, 56, 21, 90, 51]"
            ]
          },
          "metadata": {},
          "execution_count": 22
        }
      ]
    },
    {
      "cell_type": "markdown",
      "source": [
        "**Operador in**"
      ],
      "metadata": {
        "id": "j1-mrZryH2Tj"
      }
    },
    {
      "cell_type": "markdown",
      "source": [
        "Criando uma lista"
      ],
      "metadata": {
        "id": "uL4-FmmPH-lF"
      }
    },
    {
      "cell_type": "code",
      "source": [
        "lista_teste_op = [100,2,-5,3.4]"
      ],
      "metadata": {
        "id": "0sFTKcfgH4ya"
      },
      "execution_count": 23,
      "outputs": []
    },
    {
      "cell_type": "markdown",
      "source": [
        "Verificando se o valor 100 pertence a lista"
      ],
      "metadata": {
        "id": "bX7oOsl0IHRi"
      }
    },
    {
      "cell_type": "code",
      "source": [
        "print(100 in lista_teste_op)"
      ],
      "metadata": {
        "colab": {
          "base_uri": "https://localhost:8080/"
        },
        "id": "ueEYUKJQIDA5",
        "outputId": "12b7e502-fd40-433f-eec6-94b6101024a9"
      },
      "execution_count": 25,
      "outputs": [
        {
          "output_type": "stream",
          "name": "stdout",
          "text": [
            "True\n"
          ]
        }
      ]
    },
    {
      "cell_type": "markdown",
      "source": [
        "**Funções Built-in**"
      ],
      "metadata": {
        "id": "oYa-QKibINaB"
      }
    },
    {
      "cell_type": "markdown",
      "source": [
        "Função `len()` retorna o comprimento da lista"
      ],
      "metadata": {
        "id": "tNpIPIJTISS5"
      }
    },
    {
      "cell_type": "code",
      "source": [
        "len(lista_teste_op)"
      ],
      "metadata": {
        "colab": {
          "base_uri": "https://localhost:8080/"
        },
        "id": "1sk8gzYpItSK",
        "outputId": "92dc4d10-ae81-4080-a691-c0832106dfc4"
      },
      "execution_count": 26,
      "outputs": [
        {
          "output_type": "execute_result",
          "data": {
            "text/plain": [
              "4"
            ]
          },
          "metadata": {},
          "execution_count": 26
        }
      ]
    },
    {
      "cell_type": "markdown",
      "source": [
        "Função `max()` retorna o valor máximo da lista "
      ],
      "metadata": {
        "id": "7A8D_hqaI4Lh"
      }
    },
    {
      "cell_type": "code",
      "source": [
        "max(lista_teste_op)"
      ],
      "metadata": {
        "colab": {
          "base_uri": "https://localhost:8080/"
        },
        "id": "-JmffL5rIwpw",
        "outputId": "090446ed-b851-4cef-be9b-a9f7fdc56f5d"
      },
      "execution_count": 27,
      "outputs": [
        {
          "output_type": "execute_result",
          "data": {
            "text/plain": [
              "100"
            ]
          },
          "metadata": {},
          "execution_count": 27
        }
      ]
    },
    {
      "cell_type": "markdown",
      "source": [
        "Função `min()` retorna o valor mínimo da lista "
      ],
      "metadata": {
        "id": "bytqkGyyJBK6"
      }
    },
    {
      "cell_type": "code",
      "source": [
        "min(lista_teste_op)"
      ],
      "metadata": {
        "colab": {
          "base_uri": "https://localhost:8080/"
        },
        "id": "SEKtYrnpI0Ig",
        "outputId": "6f0376cc-e3fa-4b8d-82db-fc62b935883d"
      },
      "execution_count": 28,
      "outputs": [
        {
          "output_type": "execute_result",
          "data": {
            "text/plain": [
              "-5"
            ]
          },
          "metadata": {},
          "execution_count": 28
        }
      ]
    },
    {
      "cell_type": "markdown",
      "source": [
        "Criando uma lista"
      ],
      "metadata": {
        "id": "05ZClaV4JUP6"
      }
    },
    {
      "cell_type": "code",
      "source": [
        "listadomercado2 = [\"ovos\",\"farinha\",\"leite\",\"maças\"]"
      ],
      "metadata": {
        "id": "JdcgpoX9I2nI"
      },
      "execution_count": 32,
      "outputs": []
    },
    {
      "cell_type": "markdown",
      "source": [
        "Adicionando um ítem a lista"
      ],
      "metadata": {
        "id": "9vx9dhfKJV_K"
      }
    },
    {
      "cell_type": "code",
      "source": [
        "listadomercado2.append(\"carne\")"
      ],
      "metadata": {
        "id": "2ZkYRTljJYL8"
      },
      "execution_count": 33,
      "outputs": []
    },
    {
      "cell_type": "code",
      "source": [
        "listadomercado2"
      ],
      "metadata": {
        "colab": {
          "base_uri": "https://localhost:8080/"
        },
        "id": "6W2CcYFQJg6s",
        "outputId": "8ea9b1d3-b1c0-4afa-d927-df8fe28c3f0f"
      },
      "execution_count": 34,
      "outputs": [
        {
          "output_type": "execute_result",
          "data": {
            "text/plain": [
              "['ovos', 'farinha', 'leite', 'maças', 'carne']"
            ]
          },
          "metadata": {},
          "execution_count": 34
        }
      ]
    },
    {
      "cell_type": "code",
      "source": [
        "listadomercado2.append(\"carne\")"
      ],
      "metadata": {
        "id": "SpOU-62zJqLP"
      },
      "execution_count": 35,
      "outputs": []
    },
    {
      "cell_type": "code",
      "source": [
        "listadomercado2"
      ],
      "metadata": {
        "colab": {
          "base_uri": "https://localhost:8080/"
        },
        "id": "PHxiimtcJwsY",
        "outputId": "facc13f0-6750-4cc3-dca8-73828e5af8e6"
      },
      "execution_count": 36,
      "outputs": [
        {
          "output_type": "execute_result",
          "data": {
            "text/plain": [
              "['ovos', 'farinha', 'leite', 'maças', 'carne', 'carne']"
            ]
          },
          "metadata": {},
          "execution_count": 36
        }
      ]
    },
    {
      "cell_type": "markdown",
      "source": [
        "Contando quantas vezes aparece \"carne\""
      ],
      "metadata": {
        "id": "7Sm8Jl76J9WJ"
      }
    },
    {
      "cell_type": "code",
      "source": [
        "listadomercado2.count(\"carne\")"
      ],
      "metadata": {
        "colab": {
          "base_uri": "https://localhost:8080/"
        },
        "id": "0aQZtwn0J3Ui",
        "outputId": "654ffe68-2f1c-4a9f-e19c-2cb460464f60"
      },
      "execution_count": 37,
      "outputs": [
        {
          "output_type": "execute_result",
          "data": {
            "text/plain": [
              "2"
            ]
          },
          "metadata": {},
          "execution_count": 37
        }
      ]
    },
    {
      "cell_type": "markdown",
      "source": [
        "Criando uma lista vazia"
      ],
      "metadata": {
        "id": "67moVHA8KF2T"
      }
    },
    {
      "cell_type": "code",
      "source": [
        "a = []"
      ],
      "metadata": {
        "id": "5BTlPdbIKIHy"
      },
      "execution_count": 38,
      "outputs": []
    },
    {
      "cell_type": "code",
      "source": [
        "print(a)"
      ],
      "metadata": {
        "colab": {
          "base_uri": "https://localhost:8080/"
        },
        "id": "E4DDiBUwKJfY",
        "outputId": "dc83059b-b5ab-4b3d-8960-c62ca733dcec"
      },
      "execution_count": 40,
      "outputs": [
        {
          "output_type": "stream",
          "name": "stdout",
          "text": [
            "[]\n"
          ]
        }
      ]
    },
    {
      "cell_type": "code",
      "source": [
        "type(a)"
      ],
      "metadata": {
        "colab": {
          "base_uri": "https://localhost:8080/"
        },
        "id": "jZzr88E8KLhA",
        "outputId": "11077c11-183b-4379-9a56-825bbeb35146"
      },
      "execution_count": 41,
      "outputs": [
        {
          "output_type": "execute_result",
          "data": {
            "text/plain": [
              "list"
            ]
          },
          "metadata": {},
          "execution_count": 41
        }
      ]
    },
    {
      "cell_type": "code",
      "source": [
        "a.append(10)"
      ],
      "metadata": {
        "id": "4jEPNOQsKMaI"
      },
      "execution_count": 42,
      "outputs": []
    },
    {
      "cell_type": "code",
      "source": [
        "a"
      ],
      "metadata": {
        "colab": {
          "base_uri": "https://localhost:8080/"
        },
        "id": "o5Csoh6sKO8Z",
        "outputId": "9acf0a81-286d-426e-9e97-3b52aa17a2fd"
      },
      "execution_count": 43,
      "outputs": [
        {
          "output_type": "execute_result",
          "data": {
            "text/plain": [
              "[10]"
            ]
          },
          "metadata": {},
          "execution_count": 43
        }
      ]
    },
    {
      "cell_type": "code",
      "source": [
        "a.append(10)"
      ],
      "metadata": {
        "id": "R_wHCwHDKQvf"
      },
      "execution_count": 44,
      "outputs": []
    },
    {
      "cell_type": "code",
      "source": [
        "a"
      ],
      "metadata": {
        "colab": {
          "base_uri": "https://localhost:8080/"
        },
        "id": "XvH2Aug6KStY",
        "outputId": "0d1a5442-34ad-439c-afc1-fbbdbfcb3716"
      },
      "execution_count": 45,
      "outputs": [
        {
          "output_type": "execute_result",
          "data": {
            "text/plain": [
              "[10, 10]"
            ]
          },
          "metadata": {},
          "execution_count": 45
        }
      ]
    },
    {
      "cell_type": "code",
      "source": [
        "old_list = [1,2,5,10]"
      ],
      "metadata": {
        "id": "1BGhifh7KTCI"
      },
      "execution_count": 49,
      "outputs": []
    },
    {
      "cell_type": "code",
      "source": [
        "new_list = []"
      ],
      "metadata": {
        "id": "v9Z-b29HKXWQ"
      },
      "execution_count": 51,
      "outputs": []
    },
    {
      "cell_type": "markdown",
      "source": [
        "Copiando ítens de uma lista para outra"
      ],
      "metadata": {
        "id": "cL1GRAWxKogE"
      }
    },
    {
      "cell_type": "code",
      "source": [
        "for item in old_list:\n",
        "    new_list.append(item)"
      ],
      "metadata": {
        "id": "PMo7-zVNKtTy"
      },
      "execution_count": 52,
      "outputs": []
    },
    {
      "cell_type": "code",
      "source": [
        "new_list"
      ],
      "metadata": {
        "colab": {
          "base_uri": "https://localhost:8080/"
        },
        "id": "tiIXZhOvKlpg",
        "outputId": "c92496da-7036-4f11-8269-dd13f9971b70"
      },
      "execution_count": 53,
      "outputs": [
        {
          "output_type": "execute_result",
          "data": {
            "text/plain": [
              "[1, 2, 5, 10]"
            ]
          },
          "metadata": {},
          "execution_count": 53
        }
      ]
    },
    {
      "cell_type": "code",
      "source": [
        "c = [20,30]"
      ],
      "metadata": {
        "id": "kgqCVZ1hK3nI"
      },
      "execution_count": 54,
      "outputs": []
    },
    {
      "cell_type": "code",
      "source": [
        "c.append(60)"
      ],
      "metadata": {
        "id": "E8136ApMK5xw"
      },
      "execution_count": 55,
      "outputs": []
    },
    {
      "cell_type": "code",
      "source": [
        "c.append(70)"
      ],
      "metadata": {
        "id": "xjh97ytfK7c_"
      },
      "execution_count": 56,
      "outputs": []
    },
    {
      "cell_type": "code",
      "source": [
        "c"
      ],
      "metadata": {
        "colab": {
          "base_uri": "https://localhost:8080/"
        },
        "id": "mmiT9aKhK9ZY",
        "outputId": "ce00740d-cb0f-4e51-bbd2-6cd1b39e2acf"
      },
      "execution_count": 57,
      "outputs": [
        {
          "output_type": "execute_result",
          "data": {
            "text/plain": [
              "[20, 30, 60, 70]"
            ]
          },
          "metadata": {},
          "execution_count": 57
        }
      ]
    },
    {
      "cell_type": "code",
      "source": [
        "c.count(20)"
      ],
      "metadata": {
        "colab": {
          "base_uri": "https://localhost:8080/"
        },
        "id": "k6f6d4MAK-BA",
        "outputId": "fc500427-89b4-4629-effb-e85aff7816f7"
      },
      "execution_count": 59,
      "outputs": [
        {
          "output_type": "execute_result",
          "data": {
            "text/plain": [
              "1"
            ]
          },
          "metadata": {},
          "execution_count": 59
        }
      ]
    },
    {
      "cell_type": "code",
      "source": [
        "cidades = [\"Recife\",\"Manaus\",\"Salvador\"]\n",
        "cidades.extend([\"Fortaleza\",\"Palmas\"])\n",
        "print(cidades)"
      ],
      "metadata": {
        "colab": {
          "base_uri": "https://localhost:8080/"
        },
        "id": "wedUMFE2LAko",
        "outputId": "aabbc549-b44c-4f29-863d-687b188a693d"
      },
      "execution_count": 63,
      "outputs": [
        {
          "output_type": "stream",
          "name": "stdout",
          "text": [
            "['Recife', 'Manaus', 'Salvador', 'Fortaleza', 'Palmas']\n"
          ]
        }
      ]
    },
    {
      "cell_type": "code",
      "source": [
        "cidades.index(\"Salvador\")"
      ],
      "metadata": {
        "colab": {
          "base_uri": "https://localhost:8080/"
        },
        "id": "45Z-iea2MBJZ",
        "outputId": "d676ec9f-973d-4a30-dc7c-99ee559ed30f"
      },
      "execution_count": 64,
      "outputs": [
        {
          "output_type": "execute_result",
          "data": {
            "text/plain": [
              "2"
            ]
          },
          "metadata": {},
          "execution_count": 64
        }
      ]
    },
    {
      "cell_type": "code",
      "source": [
        "cidades"
      ],
      "metadata": {
        "colab": {
          "base_uri": "https://localhost:8080/"
        },
        "id": "vVPkN5d-MFdI",
        "outputId": "7c697636-4a53-4fbb-93b7-d0944524cb48"
      },
      "execution_count": 65,
      "outputs": [
        {
          "output_type": "execute_result",
          "data": {
            "text/plain": [
              "['Recife', 'Manaus', 'Salvador', 'Fortaleza', 'Palmas']"
            ]
          },
          "metadata": {},
          "execution_count": 65
        }
      ]
    },
    {
      "cell_type": "markdown",
      "source": [
        "Inserindo dados à lista"
      ],
      "metadata": {
        "id": "77tMzplqMkKD"
      }
    },
    {
      "cell_type": "code",
      "source": [
        "cidades.insert(2,110)"
      ],
      "metadata": {
        "id": "n--j9EThMGjI"
      },
      "execution_count": 67,
      "outputs": []
    },
    {
      "cell_type": "code",
      "source": [
        "cidades"
      ],
      "metadata": {
        "colab": {
          "base_uri": "https://localhost:8080/"
        },
        "id": "fCc0DGd3MaKo",
        "outputId": "fe2e9c4b-b383-4679-c73a-3608a8e21d30"
      },
      "execution_count": 68,
      "outputs": [
        {
          "output_type": "execute_result",
          "data": {
            "text/plain": [
              "['Recife', 'Manaus', 110, 'Salvador', 'Fortaleza', 'Palmas']"
            ]
          },
          "metadata": {},
          "execution_count": 68
        }
      ]
    },
    {
      "cell_type": "markdown",
      "source": [
        "Invertendo a lista"
      ],
      "metadata": {
        "id": "E05DBd2EMws7"
      }
    },
    {
      "cell_type": "code",
      "source": [
        "cidades.reverse()"
      ],
      "metadata": {
        "id": "Ks6uG2OEMhoQ"
      },
      "execution_count": 70,
      "outputs": []
    },
    {
      "cell_type": "code",
      "source": [
        "x = [3,4,2,1]"
      ],
      "metadata": {
        "id": "Tjq80NxeMprI"
      },
      "execution_count": 71,
      "outputs": []
    },
    {
      "cell_type": "code",
      "source": [
        "x"
      ],
      "metadata": {
        "colab": {
          "base_uri": "https://localhost:8080/"
        },
        "id": "f6-I8zVQM2Dg",
        "outputId": "1a1bca92-f38e-477e-a32e-0af7586d27ce"
      },
      "execution_count": 72,
      "outputs": [
        {
          "output_type": "execute_result",
          "data": {
            "text/plain": [
              "[3, 4, 2, 1]"
            ]
          },
          "metadata": {},
          "execution_count": 72
        }
      ]
    },
    {
      "cell_type": "code",
      "source": [
        "x.sort()"
      ],
      "metadata": {
        "id": "eoKa9fxSM2YI"
      },
      "execution_count": 73,
      "outputs": []
    },
    {
      "cell_type": "code",
      "source": [
        "x"
      ],
      "metadata": {
        "colab": {
          "base_uri": "https://localhost:8080/"
        },
        "id": "1Fh14BTsM3wo",
        "outputId": "f4ce8974-4f6d-4392-b086-85ff8432364b"
      },
      "execution_count": 74,
      "outputs": [
        {
          "output_type": "execute_result",
          "data": {
            "text/plain": [
              "[1, 2, 3, 4]"
            ]
          },
          "metadata": {},
          "execution_count": 74
        }
      ]
    },
    {
      "cell_type": "code",
      "source": [],
      "metadata": {
        "id": "IQUEaZxhM4iY"
      },
      "execution_count": null,
      "outputs": []
    }
  ]
}