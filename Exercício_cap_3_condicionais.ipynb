{
  "nbformat": 4,
  "nbformat_minor": 0,
  "metadata": {
    "colab": {
      "provenance": [],
      "authorship_tag": "ABX9TyN+ZJA63D406RlCCTAO/ygJ",
      "include_colab_link": true
    },
    "kernelspec": {
      "name": "python3",
      "display_name": "Python 3"
    },
    "language_info": {
      "name": "python"
    }
  },
  "cells": [
    {
      "cell_type": "markdown",
      "metadata": {
        "id": "view-in-github",
        "colab_type": "text"
      },
      "source": [
        "<a href=\"https://colab.research.google.com/github/JamilyEst/Python-DSA/blob/main/Exerc%C3%ADcio_cap_3_condicionais.ipynb\" target=\"_parent\"><img src=\"https://colab.research.google.com/assets/colab-badge.svg\" alt=\"Open In Colab\"/></a>"
      ]
    },
    {
      "cell_type": "markdown",
      "source": [
        "# **Exercício cap 3 condicionais**"
      ],
      "metadata": {
        "id": "6nwm8RGZEoeg"
      }
    },
    {
      "cell_type": "code",
      "execution_count": 3,
      "metadata": {
        "colab": {
          "base_uri": "https://localhost:8080/"
        },
        "id": "a0TjpMbfEj8z",
        "outputId": "20571945-079f-4bf2-a37b-968293eefa09"
      },
      "outputs": [
        {
          "output_type": "stream",
          "name": "stdout",
          "text": [
            "Que dia é hoje? domingo\n",
            "Hoje é dia de descansso\n"
          ]
        }
      ],
      "source": [
        "# Exercício 1 - Crie uma estrutura que pergunte ao usuário qual o dia da semana. Se o dia for igual a Domingo ou \n",
        "# igual a sábado, imprima na tela \"Hoje é dia de descanso\", caso contrário imprima na tela \"Você precisa trabalhar!\"\n",
        "dia = str(input(\"Que dia é hoje? \")).upper()\n",
        "if dia == \"DOMINGO\" or dia == \"SÁBADO\":\n",
        "    print(\"Hoje é dia de descansso\")\n",
        "else:\n",
        "    print(\"Você precisa trabalhar\")"
      ]
    },
    {
      "cell_type": "code",
      "source": [
        "# Exercício 2 - Crie uma lista de 5 frutas e verifique se a fruta 'Morango' faz parte da lista\n",
        "listadefrutas = [str(input(\"Digite a 1ª fruta: \").upper()),str(input(\"Digite a 2ª fruta: \").upper()),str(input(\"Digite a 3ª fruta: \").upper()),str(input(\"Digite a 4ª fruta: \").upper())]\n",
        "\n",
        "for i in listadefrutas:\n",
        "    if i == \"MORANGO\":\n",
        "        print(\"Morango faz parte da lista\")"
      ],
      "metadata": {
        "colab": {
          "base_uri": "https://localhost:8080/"
        },
        "id": "3i_iM97JFEid",
        "outputId": "70008f93-ed6f-4eda-f72e-b8a0bb08fbb0"
      },
      "execution_count": 20,
      "outputs": [
        {
          "output_type": "stream",
          "name": "stdout",
          "text": [
            "Digite a 1ª frutaAÇAÍ\n",
            "Digite a 2ª frutaBANANA\n",
            "Digite a 3ª frutaMORANGO\n",
            "Digite a 4ª frutaLARANJA\n",
            "Morango faz parte da lista\n"
          ]
        }
      ]
    },
    {
      "cell_type": "code",
      "source": [
        "# Exercício 3 - Crie uma tupla de 4 elementos, multiplique cada elemento da tupla por 2 e guarde os resultados em uma \n",
        "# lista\n",
        "j = 0\n",
        "lista = []\n",
        "Tupla = (int(input(\"Digite o 1º elemento: \")),int(input(\"Digite o 2º elemento: \")),int(input(\"Digite o 3º elemento: \")),int(input(\"Digite o 4º elemento: \")))\n",
        "for i in Tupla:\n",
        "    elem = 2 * i\n",
        "    lista.append(elem)\n",
        "\n",
        "print(lista)\n",
        "    "
      ],
      "metadata": {
        "colab": {
          "base_uri": "https://localhost:8080/"
        },
        "id": "2s_0O7wJFgPT",
        "outputId": "83d8392e-2eea-43b3-aba4-5799e9d5ccc8"
      },
      "execution_count": 35,
      "outputs": [
        {
          "output_type": "stream",
          "name": "stdout",
          "text": [
            "Digite o 1º elemento: 1\n",
            "Digite o 2º elemento: 2\n",
            "Digite o 3º elemento: 3\n",
            "Digite o 4º elemento: 4\n",
            "[2, 4, 6, 8]\n"
          ]
        }
      ]
    },
    {
      "cell_type": "code",
      "source": [
        "# Exercício 4 - Crie uma sequência de números pares entre 100 e 150 e imprima na tela\n",
        "for i in range(100,150,2):\n",
        "    print(i)\n",
        "\n"
      ],
      "metadata": {
        "colab": {
          "base_uri": "https://localhost:8080/"
        },
        "id": "HhPaDrHCFlux",
        "outputId": "360646b5-4b0e-497a-9ee1-19252df369f7"
      },
      "execution_count": 42,
      "outputs": [
        {
          "output_type": "stream",
          "name": "stdout",
          "text": [
            "100\n",
            "102\n",
            "104\n",
            "106\n",
            "108\n",
            "110\n",
            "112\n",
            "114\n",
            "116\n",
            "118\n",
            "120\n",
            "122\n",
            "124\n",
            "126\n",
            "128\n",
            "130\n",
            "132\n",
            "134\n",
            "136\n",
            "138\n",
            "140\n",
            "142\n",
            "144\n",
            "146\n",
            "148\n"
          ]
        }
      ]
    },
    {
      "cell_type": "code",
      "source": [
        "#Exercício 5 - Crie uma variável chamada temperatura e atribua o valor 40. Enquanto temperatura for maior que 35, \n",
        "# imprima as temperaturas na tela\n",
        "temperatura = 40\n",
        "\n",
        "while temperatura > 35:\n",
        "    print(temperatura)\n",
        "    temperatura = temperatura - 1\n"
      ],
      "metadata": {
        "colab": {
          "base_uri": "https://localhost:8080/"
        },
        "id": "o4HqIronG17x",
        "outputId": "51b8a122-a55f-4c6a-8e7f-98315109c4d1"
      },
      "execution_count": 43,
      "outputs": [
        {
          "output_type": "stream",
          "name": "stdout",
          "text": [
            "40\n",
            "39\n",
            "38\n",
            "37\n",
            "36\n"
          ]
        }
      ]
    },
    {
      "cell_type": "code",
      "source": [
        "# Exercício 6 - Crie uma variável chamada contador = 0. Enquanto counter for menor que 100, imprima os valores na tela,\n",
        "# mas quando for encontrado o valor 23, interrompa a execução do programa\n",
        "contador = 0\n",
        "while contador < 100:\n",
        "    print(contador)\n",
        "    if contador == 23:\n",
        "        break\n",
        "    contador +=1\n"
      ],
      "metadata": {
        "colab": {
          "base_uri": "https://localhost:8080/"
        },
        "id": "BCM_u8E9J5CY",
        "outputId": "ab2f9c5c-8694-49d7-8d57-7bab6b996296"
      },
      "execution_count": 44,
      "outputs": [
        {
          "output_type": "stream",
          "name": "stdout",
          "text": [
            "0\n",
            "1\n",
            "2\n",
            "3\n",
            "4\n",
            "5\n",
            "6\n",
            "7\n",
            "8\n",
            "9\n",
            "10\n",
            "11\n",
            "12\n",
            "13\n",
            "14\n",
            "15\n",
            "16\n",
            "17\n",
            "18\n",
            "19\n",
            "20\n",
            "21\n",
            "22\n",
            "23\n"
          ]
        }
      ]
    },
    {
      "cell_type": "code",
      "source": [
        "# Exercício 7 - Crie uma lista vazia e uma variável com valor 4. Enquanto o valor da variável for menor ou igual a 20, \n",
        "# adicione à lista, apenas os valores pares e imprima a lista\n",
        "vari = 4\n",
        "lista = []\n",
        "\n",
        "while vari <= 20:\n",
        "    lista.append(vari)\n",
        "    vari += 1\n",
        "    \n",
        "print(lista)"
      ],
      "metadata": {
        "colab": {
          "base_uri": "https://localhost:8080/"
        },
        "id": "yM2uxCB8NF1n",
        "outputId": "51dbd3df-045c-4bda-b11a-057fa1beb37d"
      },
      "execution_count": 53,
      "outputs": [
        {
          "output_type": "stream",
          "name": "stdout",
          "text": [
            "[4, 5, 6, 7, 8, 9, 10, 11, 12, 13, 14, 15, 16, 17, 18, 19, 20]\n"
          ]
        }
      ]
    },
    {
      "cell_type": "code",
      "source": [
        "# Exercício 8 - Transforme o resultado desta função range em uma lista: range(5, 45, 2)\n",
        "nums = range(5, 45, 2)\n",
        "print(list(nums))\n",
        "\n"
      ],
      "metadata": {
        "colab": {
          "base_uri": "https://localhost:8080/"
        },
        "id": "CTZy42VxPo8o",
        "outputId": "805031af-3b03-4e66-99e7-03902c8ba71c"
      },
      "execution_count": 55,
      "outputs": [
        {
          "output_type": "stream",
          "name": "stdout",
          "text": [
            "[5, 7, 9, 11, 13, 15, 17, 19, 21, 23, 25, 27, 29, 31, 33, 35, 37, 39, 41, 43]\n"
          ]
        }
      ]
    },
    {
      "cell_type": "code",
      "source": [
        "# Exercício 9 - Faça a correção dos erros no código abaixo e execute o programa. Dica: são 3 erros.\n",
        "temperatura = float(input('Qual a temperatura? '))\n",
        "if temperatura > 30:\n",
        "   print('Vista roupas leves.')\n",
        "else:\n",
        "    print('Busque seus casacos.')"
      ],
      "metadata": {
        "colab": {
          "base_uri": "https://localhost:8080/"
        },
        "id": "yYYWTRajQJ6n",
        "outputId": "9a614a2d-a38d-4c88-c682-6356a01a2b99"
      },
      "execution_count": 56,
      "outputs": [
        {
          "output_type": "stream",
          "name": "stdout",
          "text": [
            "Qual a temperatura? 40\n",
            "Vista roupas leves.\n"
          ]
        }
      ]
    },
    {
      "cell_type": "code",
      "source": [
        "# Exercício 10 - Faça um programa que conte quantas vezes a letra \"r\" aparece na frase abaixo. Use um placeholder na \n",
        "# sua instrução de impressão\n",
        "\n",
        "# “É melhor, muito melhor, contentar-se com a realidade; se ela não é tão brilhante como os sonhos, tem pelo menos a \n",
        "# vantagem de existir.” (Machado de Assis)\n",
        "\n",
        "frase = \"É melhor, muito melhor, contentar-se com a realidade; se ela não é tão brilhante como os sonhos, tem pelo menos a vantagem de existir.\" \n",
        "count = 0\n",
        "for i in frase:\n",
        "    if i == \"r\":\n",
        "      count = count + 1\n",
        "print(\"O caracter r aparece %s vezes\" %(count))"
      ],
      "metadata": {
        "colab": {
          "base_uri": "https://localhost:8080/"
        },
        "id": "MR9l7UGVRQyx",
        "outputId": "1f564c3f-ce0c-4fac-dfa3-abe5e3fbed11"
      },
      "execution_count": 60,
      "outputs": [
        {
          "output_type": "stream",
          "name": "stdout",
          "text": [
            "O caracter r aparece 6 vezes\n"
          ]
        }
      ]
    },
    {
      "cell_type": "code",
      "source": [],
      "metadata": {
        "id": "l5Jjd5mQRmtg"
      },
      "execution_count": null,
      "outputs": []
    }
  ]
}