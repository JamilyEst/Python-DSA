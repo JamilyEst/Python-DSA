{
  "nbformat": 4,
  "nbformat_minor": 0,
  "metadata": {
    "colab": {
      "provenance": [],
      "authorship_tag": "ABX9TyP1afSuzvwj7mHlTE8lXMJJ",
      "include_colab_link": true
    },
    "kernelspec": {
      "name": "python3",
      "display_name": "Python 3"
    },
    "language_info": {
      "name": "python"
    }
  },
  "cells": [
    {
      "cell_type": "markdown",
      "metadata": {
        "id": "view-in-github",
        "colab_type": "text"
      },
      "source": [
        "<a href=\"https://colab.research.google.com/github/JamilyEst/Python-DSA/blob/main/Cap_3_Fun%C3%A7%C3%B5es.ipynb\" target=\"_parent\"><img src=\"https://colab.research.google.com/assets/colab-badge.svg\" alt=\"Open In Colab\"/></a>"
      ]
    },
    {
      "cell_type": "markdown",
      "source": [
        "# **Funções**"
      ],
      "metadata": {
        "id": "Pv4Iqwt4U_8H"
      }
    },
    {
      "cell_type": "code",
      "execution_count": 5,
      "metadata": {
        "colab": {
          "base_uri": "https://localhost:8080/"
        },
        "id": "qXk1ERrYUr2P",
        "outputId": "f3760a67-dc28-49c4-8031-08bea2b94985"
      },
      "outputs": [
        {
          "output_type": "stream",
          "name": "stdout",
          "text": [
            "Hello World\n"
          ]
        }
      ],
      "source": [
        "# Definindo uma função\n",
        "\n",
        "def primeiraFunc():\n",
        "    print('Hello World')\n",
        "primeiraFunc()"
      ]
    },
    {
      "cell_type": "code",
      "source": [
        "# Definindo uma função com parâmetro\n",
        "def primeiraFunc(nome):\n",
        "    print('Hello %s' %(nome))"
      ],
      "metadata": {
        "id": "nj1j8LMqVJ2w"
      },
      "execution_count": 6,
      "outputs": []
    },
    {
      "cell_type": "code",
      "source": [
        "primeiraFunc('Jamily')"
      ],
      "metadata": {
        "colab": {
          "base_uri": "https://localhost:8080/"
        },
        "id": "obU1QQmUVwgM",
        "outputId": "89d5f017-aa20-4bc9-9b3d-cdfc368ca426"
      },
      "execution_count": 8,
      "outputs": [
        {
          "output_type": "stream",
          "name": "stdout",
          "text": [
            "Hello Jamily\n"
          ]
        }
      ]
    },
    {
      "cell_type": "code",
      "source": [
        "def funcLeitura():\n",
        "    for i in range(0,5):\n",
        "        print(\"Número\" + str(i))"
      ],
      "metadata": {
        "id": "pHikz540VzP0"
      },
      "execution_count": 10,
      "outputs": []
    },
    {
      "cell_type": "code",
      "source": [
        "funcLeitura()"
      ],
      "metadata": {
        "colab": {
          "base_uri": "https://localhost:8080/"
        },
        "id": "_4d3SgBHWHnj",
        "outputId": "20f507db-54ef-4a04-a23f-7b3a2dbfd2a6"
      },
      "execution_count": 11,
      "outputs": [
        {
          "output_type": "stream",
          "name": "stdout",
          "text": [
            "Número0\n",
            "Número1\n",
            "Número2\n",
            "Número3\n",
            "Número4\n"
          ]
        }
      ]
    },
    {
      "cell_type": "code",
      "source": [
        "# Função para somar números\n",
        "def addNum(firstnum, secondnum):\n",
        "    print(\"Primeiro número:\" + str(firstnum))\n",
        "    print(\"Segundo número: \" + str(secondnum))\n",
        "    print(\"Soma:\", firstnum + secondnum)"
      ],
      "metadata": {
        "id": "VxI2bVcSWOez"
      },
      "execution_count": 12,
      "outputs": []
    },
    {
      "cell_type": "code",
      "source": [
        "# Chamando a função e passando parâmetros\n",
        "addNum(1,2)"
      ],
      "metadata": {
        "colab": {
          "base_uri": "https://localhost:8080/"
        },
        "id": "YDMRYkF9WsNK",
        "outputId": "a9528155-0c62-4f8c-f925-73972fd194f8"
      },
      "execution_count": 15,
      "outputs": [
        {
          "output_type": "stream",
          "name": "stdout",
          "text": [
            "Primeiro número:1\n",
            "Segundo número: 2\n",
            "Soma: 3\n"
          ]
        }
      ]
    }
  ]
}