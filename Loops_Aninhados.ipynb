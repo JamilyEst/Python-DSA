{
  "nbformat": 4,
  "nbformat_minor": 0,
  "metadata": {
    "colab": {
      "provenance": [],
      "authorship_tag": "ABX9TyOeYZc5HvlSduTzcCuXl86Q",
      "include_colab_link": true
    },
    "kernelspec": {
      "name": "python3",
      "display_name": "Python 3"
    },
    "language_info": {
      "name": "python"
    }
  },
  "cells": [
    {
      "cell_type": "markdown",
      "metadata": {
        "id": "view-in-github",
        "colab_type": "text"
      },
      "source": [
        "<a href=\"https://colab.research.google.com/github/JamilyEst/Python-DSA/blob/main/Loops_Aninhados.ipynb\" target=\"_parent\"><img src=\"https://colab.research.google.com/assets/colab-badge.svg\" alt=\"Open In Colab\"/></a>"
      ]
    },
    {
      "cell_type": "markdown",
      "source": [
        "# **Loops Aninhados**"
      ],
      "metadata": {
        "id": "MD7Q7v1wWEXs"
      }
    },
    {
      "cell_type": "code",
      "execution_count": 1,
      "metadata": {
        "colab": {
          "base_uri": "https://localhost:8080/"
        },
        "id": "Fb1xCLyFVoeM",
        "outputId": "292925bb-52c7-4443-b3ef-68c6c436566a"
      },
      "outputs": [
        {
          "output_type": "stream",
          "name": "stdout",
          "text": [
            "0\n",
            "1\n",
            "2\n",
            "3\n",
            "4\n",
            "0\n",
            "1\n",
            "2\n",
            "3\n",
            "4\n",
            "0\n",
            "1\n",
            "2\n",
            "3\n",
            "4\n",
            "0\n",
            "1\n",
            "2\n",
            "3\n",
            "4\n",
            "0\n",
            "1\n",
            "2\n",
            "3\n",
            "4\n"
          ]
        }
      ],
      "source": [
        "# Loops ANinhados\n",
        "for i in range(0,5):\n",
        "  for a in range(0,5):\n",
        "      print(a)"
      ]
    },
    {
      "cell_type": "code",
      "source": [
        "# Operando os valores de uma lista com loop for\n",
        "listaB = [32,53,85,10,15,17,19]\n",
        "soma = 0\n",
        "for i in listaB:\n",
        "    double_i = i*2\n",
        "    soma += double_i\n",
        "print(soma)"
      ],
      "metadata": {
        "colab": {
          "base_uri": "https://localhost:8080/"
        },
        "id": "oWXt3sz5WYbu",
        "outputId": "688ab0d7-7d06-46ea-b425-862867b3122b"
      },
      "execution_count": 4,
      "outputs": [
        {
          "output_type": "stream",
          "name": "stdout",
          "text": [
            "462\n"
          ]
        }
      ]
    },
    {
      "cell_type": "code",
      "source": [
        "# Operando os valores de listas\n",
        "listas = [[1,2,3],[10,15,14],[10.1,8.7,2.3]]\n",
        "for valor in listas:\n",
        "    print(valor)"
      ],
      "metadata": {
        "colab": {
          "base_uri": "https://localhost:8080/"
        },
        "id": "DWByA-MSWj8y",
        "outputId": "2d4752cb-c8f6-4c83-d3cf-a0b092250eb9"
      },
      "execution_count": 5,
      "outputs": [
        {
          "output_type": "stream",
          "name": "stdout",
          "text": [
            "[1, 2, 3]\n",
            "[10, 15, 14]\n",
            "[10.1, 8.7, 2.3]\n"
          ]
        }
      ]
    },
    {
      "cell_type": "code",
      "source": [
        "  # Contando os itens de uma lista\n",
        "lista = [5,6,10,13,17]\n",
        "count = 0\n",
        "for item in lista:\n",
        "    count += 1\n",
        "\n",
        "print(count)"
      ],
      "metadata": {
        "colab": {
          "base_uri": "https://localhost:8080/"
        },
        "id": "nHosDi1tXb82",
        "outputId": "7215d992-7293-4edf-9ea8-8abddbcd59c8"
      },
      "execution_count": 8,
      "outputs": [
        {
          "output_type": "stream",
          "name": "stdout",
          "text": [
            "5\n"
          ]
        }
      ]
    },
    {
      "cell_type": "code",
      "source": [
        "# Contar o numero de colunas\n",
        "lst = [[1,2,3],[3,4,5],[5,6,7]]\n",
        "primeira_linha = lst[0]\n",
        "count = 0\n",
        "for column in primeira_linha:\n",
        "    count = count + 1\n",
        "\n",
        "    print(count)"
      ],
      "metadata": {
        "colab": {
          "base_uri": "https://localhost:8080/"
        },
        "id": "zzcjIxb_ZT0i",
        "outputId": "b5363d6a-f47d-4d22-af56-79508ff94ce6"
      },
      "execution_count": 11,
      "outputs": [
        {
          "output_type": "stream",
          "name": "stdout",
          "text": [
            "1\n",
            "2\n",
            "3\n"
          ]
        }
      ]
    },
    {
      "cell_type": "code",
      "source": [
        "# Pesquisando em listas\n",
        "listaC = [5,6,7,10,50]\n",
        "\n",
        "# Loop através da lista\n",
        "for item in listaC:\n",
        "    if item == 5:\n",
        "        print(\"Numero encontrado na lista!:\")"
      ],
      "metadata": {
        "colab": {
          "base_uri": "https://localhost:8080/"
        },
        "id": "FUqRdAZNaWnj",
        "outputId": "1679fce0-9116-4ac0-910d-f6ec0737a4ba"
      },
      "execution_count": 12,
      "outputs": [
        {
          "output_type": "stream",
          "name": "stdout",
          "text": [
            "Numero encontrado na lista!:\n"
          ]
        }
      ]
    },
    {
      "cell_type": "code",
      "source": [
        "# Listando as chaves de um dicionário\n",
        "dict = {\"k1\":\"Python\",\"k2\":\"R\",\"K3\":\"Scala\"}\n",
        "for item in dict:\n",
        "    print(item)"
      ],
      "metadata": {
        "colab": {
          "base_uri": "https://localhost:8080/"
        },
        "id": "2h9tFwuaax1t",
        "outputId": "ef835bd2-cc9e-4e32-8c16-d16577d1b0bb"
      },
      "execution_count": 13,
      "outputs": [
        {
          "output_type": "stream",
          "name": "stdout",
          "text": [
            "k1\n",
            "k2\n",
            "K3\n"
          ]
        }
      ]
    },
    {
      "cell_type": "code",
      "source": [
        "# Listando as chaves de um dicionário\n",
        "dict = {\"k1\":\"Python\", \"k2\":\"R\", \"K3\":\"Scala\"}\n",
        "for item in dict:\n",
        "    print(item)"
      ],
      "metadata": {
        "colab": {
          "base_uri": "https://localhost:8080/"
        },
        "id": "SCZIrfWcbH1Y",
        "outputId": "b4f29fe8-d388-4a78-93e2-b3644ada4188"
      },
      "execution_count": 14,
      "outputs": [
        {
          "output_type": "stream",
          "name": "stdout",
          "text": [
            "k1\n",
            "k2\n",
            "K3\n"
          ]
        }
      ]
    },
    {
      "cell_type": "code",
      "source": [
        "# Imprimindo chaves e valor do dicionário. Usando o método items() para retornar os itens de um dicionário\n",
        "for k,v in dict.items():\n",
        "  print(k,v)"
      ],
      "metadata": {
        "colab": {
          "base_uri": "https://localhost:8080/"
        },
        "id": "3L4cxhQidwkD",
        "outputId": "fcb7b303-f3a3-4d7f-c6c4-fe995763f76b"
      },
      "execution_count": 15,
      "outputs": [
        {
          "output_type": "stream",
          "name": "stdout",
          "text": [
            "k1 Python\n",
            "k2 R\n",
            "K3 Scala\n"
          ]
        }
      ]
    }
  ]
}