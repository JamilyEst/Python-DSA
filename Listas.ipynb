{
  "nbformat": 4,
  "nbformat_minor": 0,
  "metadata": {
    "colab": {
      "provenance": []
    },
    "kernelspec": {
      "name": "python3",
      "display_name": "Python 3"
    },
    "language_info": {
      "name": "python"
    }
  },
  "cells": [
    {
      "cell_type": "markdown",
      "source": [
        "##**Listas Iniciando** \n",
        "\n"
      ],
      "metadata": {
        "id": "ssR_PgkbCglu"
      }
    },
    {
      "cell_type": "code",
      "execution_count": 1,
      "metadata": {
        "id": "JTJ7HyHvAsZb"
      },
      "outputs": [],
      "source": [
        "listasdomercado = [\"ovos, farinha, leite, maças\"]"
      ]
    },
    {
      "cell_type": "code",
      "source": [
        "listasdomercado2 = [\"ovos\", \"farinha\", \"leite\", \"maças\"]"
      ],
      "metadata": {
        "id": "orvhAowIBF5x"
      },
      "execution_count": 2,
      "outputs": []
    },
    {
      "cell_type": "code",
      "source": [
        "listasdomercado[0]"
      ],
      "metadata": {
        "colab": {
          "base_uri": "https://localhost:8080/",
          "height": 35
        },
        "id": "dKXiwVUFBMhU",
        "outputId": "76635a44-6d13-436c-d47b-1304964340fc"
      },
      "execution_count": 3,
      "outputs": [
        {
          "output_type": "execute_result",
          "data": {
            "text/plain": [
              "'ovos, farinha, leite, maças'"
            ],
            "application/vnd.google.colaboratory.intrinsic+json": {
              "type": "string"
            }
          },
          "metadata": {},
          "execution_count": 3
        }
      ]
    },
    {
      "cell_type": "code",
      "source": [
        "listasdomercado2[0]"
      ],
      "metadata": {
        "colab": {
          "base_uri": "https://localhost:8080/",
          "height": 35
        },
        "id": "RFViR2x8BRYI",
        "outputId": "403eca7b-5073-458a-a075-f849907948fc"
      },
      "execution_count": 4,
      "outputs": [
        {
          "output_type": "execute_result",
          "data": {
            "text/plain": [
              "'ovos'"
            ],
            "application/vnd.google.colaboratory.intrinsic+json": {
              "type": "string"
            }
          },
          "metadata": {},
          "execution_count": 4
        }
      ]
    },
    {
      "cell_type": "code",
      "source": [
        "lista3 = [12, 100, \"Universidade\"]"
      ],
      "metadata": {
        "id": "kPFDMssMBTdv"
      },
      "execution_count": 7,
      "outputs": []
    },
    {
      "cell_type": "code",
      "source": [],
      "metadata": {
        "id": "QZMHWflkC-17"
      },
      "execution_count": null,
      "outputs": []
    },
    {
      "cell_type": "markdown",
      "source": [
        "Lista com tipos diferentes de variáveis"
      ],
      "metadata": {
        "id": "T1OWI6xyBcE6"
      }
    },
    {
      "cell_type": "code",
      "source": [
        "item1 = lista3[0]\n",
        "item2 = lista3[1]\n",
        "item3 = lista3[2]"
      ],
      "metadata": {
        "id": "mXAMyG4QBbSn"
      },
      "execution_count": 9,
      "outputs": []
    },
    {
      "cell_type": "code",
      "source": [
        "print(item1, item2, item3)"
      ],
      "metadata": {
        "colab": {
          "base_uri": "https://localhost:8080/"
        },
        "id": "uvYZLE-1Bqrv",
        "outputId": "b6172a72-71f2-437c-edea-0fbc5535054d"
      },
      "execution_count": 10,
      "outputs": [
        {
          "output_type": "stream",
          "name": "stdout",
          "text": [
            "12 100 Universidade\n"
          ]
        }
      ]
    },
    {
      "cell_type": "markdown",
      "source": [
        "Imprimindo as variáveis"
      ],
      "metadata": {
        "id": "Ax8PuZniB4jJ"
      }
    },
    {
      "cell_type": "code",
      "source": [
        "listasdomercado2[2] = \"Chocolate\""
      ],
      "metadata": {
        "id": "LGkyPiRsB2sf"
      },
      "execution_count": 13,
      "outputs": []
    },
    {
      "cell_type": "markdown",
      "source": [
        "Atualizando uma lista"
      ],
      "metadata": {
        "id": "P8pkxeSxCCnh"
      }
    },
    {
      "cell_type": "code",
      "source": [
        "del listasdomercado2[3]"
      ],
      "metadata": {
        "id": "R1CLNQRaCEuv"
      },
      "execution_count": 14,
      "outputs": []
    },
    {
      "cell_type": "markdown",
      "source": [
        "Deletando uma lista"
      ],
      "metadata": {
        "id": "pTIGGA5pCYbR"
      }
    }
  ]
}