{
  "nbformat": 4,
  "nbformat_minor": 0,
  "metadata": {
    "colab": {
      "provenance": [],
      "authorship_tag": "ABX9TyPKMPICE01AbZyxPR2fgLpV",
      "include_colab_link": true
    },
    "kernelspec": {
      "name": "python3",
      "display_name": "Python 3"
    },
    "language_info": {
      "name": "python"
    }
  },
  "cells": [
    {
      "cell_type": "markdown",
      "metadata": {
        "id": "view-in-github",
        "colab_type": "text"
      },
      "source": [
        "<a href=\"https://colab.research.google.com/github/JamilyEst/Python-DSA/blob/main/Pass%2C_Break%2C_Continue.ipynb\" target=\"_parent\"><img src=\"https://colab.research.google.com/assets/colab-badge.svg\" alt=\"Open In Colab\"/></a>"
      ]
    },
    {
      "cell_type": "markdown",
      "source": [
        "# **Pass, Break, Continue**"
      ],
      "metadata": {
        "id": "HdpFm8IIh4lN"
      }
    },
    {
      "cell_type": "code",
      "source": [
        "counter = 0\n",
        "while counter < 100:\n",
        "    if counter == 4:\n",
        "        break\n",
        "    else:\n",
        "      pass\n",
        "    print(counter)\n",
        "    counter = counter + 1"
      ],
      "metadata": {
        "colab": {
          "base_uri": "https://localhost:8080/"
        },
        "id": "zusS1N-zhzHq",
        "outputId": "a96795c5-6c74-4aab-d197-f989e682236a"
      },
      "execution_count": 1,
      "outputs": [
        {
          "output_type": "stream",
          "name": "stdout",
          "text": [
            "0\n",
            "1\n",
            "2\n",
            "3\n"
          ]
        }
      ]
    },
    {
      "cell_type": "markdown",
      "source": [],
      "metadata": {
        "id": "8xRKsN81hys1"
      }
    },
    {
      "cell_type": "code",
      "execution_count": 2,
      "metadata": {
        "colab": {
          "base_uri": "https://localhost:8080/"
        },
        "id": "NgOmqnXphyJW",
        "outputId": "391c68dd-8acd-4c73-f613-ac03f54b07b9"
      },
      "outputs": [
        {
          "output_type": "stream",
          "name": "stdout",
          "text": [
            "P\n",
            "y\n",
            "t\n",
            "o\n",
            "n\n"
          ]
        }
      ],
      "source": [
        "for verificador in \"Python\":\n",
        "    if verificador == \"h\":\n",
        "      continue\n",
        "    print(verificador)"
      ]
    },
    {
      "cell_type": "markdown",
      "source": [
        "# **While e For juntos**"
      ],
      "metadata": {
        "id": "2z7WcVLninNB"
      }
    },
    {
      "cell_type": "code",
      "source": [
        "for i in range(2,30):\n",
        "    j = 2\n",
        "    counter = 0\n",
        "    while j < i:\n",
        "        if i % j == 0:\n",
        "          counter = 1\n",
        "          j = j +1\n",
        "        else:\n",
        "          j = j + 1\n",
        "\n",
        "    if counter == 0:\n",
        "        print(str(i) + \"é um numero primo\")\n",
        "        counter = 0\n",
        "    else:\n",
        "         counter = 0 "
      ],
      "metadata": {
        "colab": {
          "base_uri": "https://localhost:8080/"
        },
        "id": "xnmfF7BzisVX",
        "outputId": "cd4e30aa-c15f-49a7-f465-1a2ebf701b08"
      },
      "execution_count": 6,
      "outputs": [
        {
          "output_type": "stream",
          "name": "stdout",
          "text": [
            "2é um numero primo\n",
            "3é um numero primo\n",
            "5é um numero primo\n",
            "7é um numero primo\n",
            "11é um numero primo\n",
            "13é um numero primo\n",
            "17é um numero primo\n",
            "19é um numero primo\n",
            "23é um numero primo\n",
            "29é um numero primo\n"
          ]
        }
      ]
    },
    {
      "cell_type": "code",
      "source": [],
      "metadata": {
        "id": "CCEp0nIUjSnj"
      },
      "execution_count": null,
      "outputs": []
    }
  ]
}