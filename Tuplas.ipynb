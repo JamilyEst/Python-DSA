{
  "nbformat": 4,
  "nbformat_minor": 0,
  "metadata": {
    "colab": {
      "provenance": [],
      "authorship_tag": "ABX9TyOfZ9B0J19GMzu4rcDUVwlD",
      "include_colab_link": true
    },
    "kernelspec": {
      "name": "python3",
      "display_name": "Python 3"
    },
    "language_info": {
      "name": "python"
    }
  },
  "cells": [
    {
      "cell_type": "markdown",
      "metadata": {
        "id": "view-in-github",
        "colab_type": "text"
      },
      "source": [
        "<a href=\"https://colab.research.google.com/github/JamilyEst/Python-DSA/blob/main/Tuplas.ipynb\" target=\"_parent\"><img src=\"https://colab.research.google.com/assets/colab-badge.svg\" alt=\"Open In Colab\"/></a>"
      ]
    },
    {
      "cell_type": "code",
      "execution_count": null,
      "metadata": {
        "id": "BQVTEAxL1ISI"
      },
      "outputs": [],
      "source": []
    },
    {
      "cell_type": "markdown",
      "source": [
        "# **Tuplas**"
      ],
      "metadata": {
        "id": "tt3yOUgr2FhD"
      }
    },
    {
      "cell_type": "code",
      "source": [
        "# Criando uma tupla\n",
        "tupla1 = (\"Geografia\",23,\"Elefantes\")"
      ],
      "metadata": {
        "id": "8Ccf_KJR2HnY"
      },
      "execution_count": null,
      "outputs": []
    },
    {
      "cell_type": "code",
      "source": [
        "#tuplas não suportam append()\n",
        "#tupla.append(\"Chocolate\")\n",
        "# tuplas não suportam delete de um item específico\n",
        "#del dupla1[\"Geografia\"]"
      ],
      "metadata": {
        "id": "J7Zu0C5O3DBg"
      },
      "execution_count": null,
      "outputs": []
    },
    {
      "cell_type": "code",
      "source": [
        "tupla1 = (\"Chocolate\")"
      ],
      "metadata": {
        "id": "T9xGeZZX3Vzv"
      },
      "execution_count": null,
      "outputs": []
    },
    {
      "cell_type": "code",
      "source": [
        "tupla1 = (\"Geografia\",23,\"Elefantes\")"
      ],
      "metadata": {
        "id": "z8d0Bisb3A94"
      },
      "execution_count": null,
      "outputs": []
    },
    {
      "cell_type": "code",
      "source": [
        "tupla1[0]"
      ],
      "metadata": {
        "colab": {
          "base_uri": "https://localhost:8080/",
          "height": 35
        },
        "id": "e9sfUqYq2-vR",
        "outputId": "ebc71ab1-fba0-45c0-9476-f5df7e0bd4f8"
      },
      "execution_count": null,
      "outputs": [
        {
          "output_type": "execute_result",
          "data": {
            "text/plain": [
              "'Geografia'"
            ],
            "application/vnd.google.colaboratory.intrinsic+json": {
              "type": "string"
            }
          },
          "metadata": {},
          "execution_count": 14
        }
      ]
    },
    {
      "cell_type": "code",
      "source": [
        "# Verificando o comprimento da tupla\n",
        "\n",
        "len(tupla1)"
      ],
      "metadata": {
        "colab": {
          "base_uri": "https://localhost:8080/"
        },
        "id": "8o1DGgVK3FAO",
        "outputId": "bdc480bd-0e41-4894-9caf-b0a09d8afdd1"
      },
      "execution_count": null,
      "outputs": [
        {
          "output_type": "execute_result",
          "data": {
            "text/plain": [
              "3"
            ]
          },
          "metadata": {},
          "execution_count": 16
        }
      ]
    },
    {
      "cell_type": "code",
      "source": [
        "# Slicing, da mesma forma que se faz com as listas\n",
        "tupla1[1:]"
      ],
      "metadata": {
        "colab": {
          "base_uri": "https://localhost:8080/"
        },
        "id": "0adV0fuZ3K9o",
        "outputId": "8089b734-dc90-488d-9c96-bba282204f73"
      },
      "execution_count": null,
      "outputs": [
        {
          "output_type": "execute_result",
          "data": {
            "text/plain": [
              "(23, 'Elefantes')"
            ]
          },
          "metadata": {},
          "execution_count": 18
        }
      ]
    },
    {
      "cell_type": "code",
      "source": [
        "tupla1.index(\"Elefantes\")"
      ],
      "metadata": {
        "colab": {
          "base_uri": "https://localhost:8080/",
          "height": 165
        },
        "id": "Ik0RcMHn3m_m",
        "outputId": "d6eeffc5-cf9c-4aed-ac22-69312d720e36"
      },
      "execution_count": null,
      "outputs": [
        {
          "output_type": "error",
          "ename": "NameError",
          "evalue": "ignored",
          "traceback": [
            "\u001b[0;31m---------------------------------------------------------------------------\u001b[0m",
            "\u001b[0;31mNameError\u001b[0m                                 Traceback (most recent call last)",
            "\u001b[0;32m<ipython-input-19-44a57d658884>\u001b[0m in \u001b[0;36m<module>\u001b[0;34m\u001b[0m\n\u001b[0;32m----> 1\u001b[0;31m \u001b[0mtupla\u001b[0m\u001b[0;34m.\u001b[0m\u001b[0mindex\u001b[0m\u001b[0;34m(\u001b[0m\u001b[0;34m\"Elefantes\"\u001b[0m\u001b[0;34m)\u001b[0m\u001b[0;34m\u001b[0m\u001b[0;34m\u001b[0m\u001b[0m\n\u001b[0m",
            "\u001b[0;31mNameError\u001b[0m: name 'tupla' is not defined"
          ]
        }
      ]
    },
    {
      "cell_type": "code",
      "source": [
        "#Tuplas não suportam atribuição de ite,\n",
        "#tupla1[1] = 21"
      ],
      "metadata": {
        "id": "ZoF_GDoo3zo0"
      },
      "execution_count": null,
      "outputs": []
    },
    {
      "cell_type": "code",
      "source": [
        "# deletando tupla\n",
        "del tupla1"
      ],
      "metadata": {
        "id": "RZzV5NrM35KW"
      },
      "execution_count": null,
      "outputs": []
    },
    {
      "cell_type": "code",
      "source": [
        "# Criando uma tupla\n",
        "t2 = (\"A\",\"B\",\"C\")"
      ],
      "metadata": {
        "id": "xi4pn2bM4BxG"
      },
      "execution_count": null,
      "outputs": []
    },
    {
      "cell_type": "code",
      "source": [
        "t2"
      ],
      "metadata": {
        "colab": {
          "base_uri": "https://localhost:8080/"
        },
        "id": "PQyCcCIJ4CnH",
        "outputId": "7912f0a8-f61e-4b66-86bd-5d0da5e9ad9e"
      },
      "execution_count": null,
      "outputs": [
        {
          "output_type": "execute_result",
          "data": {
            "text/plain": [
              "('A', 'B', 'C')"
            ]
          },
          "metadata": {},
          "execution_count": 25
        }
      ]
    },
    {
      "cell_type": "code",
      "source": [
        "#Tuplas não suportam atribuição de item\n",
        "#t2[0] = \"D\""
      ],
      "metadata": {
        "id": "NUKFIlmL4KsY"
      },
      "execution_count": null,
      "outputs": []
    },
    {
      "cell_type": "markdown",
      "source": [
        "# **Alterando uma tupla**\n",
        "Converter a tupla em uma lista, e depois retornar a uma tupla"
      ],
      "metadata": {
        "id": "l3XW8Mto5LJY"
      }
    },
    {
      "cell_type": "code",
      "source": [
        "lista_t2 = list(t2)"
      ],
      "metadata": {
        "id": "OLuT5wLK4TKg"
      },
      "execution_count": null,
      "outputs": []
    },
    {
      "cell_type": "markdown",
      "source": [],
      "metadata": {
        "id": "qJAmYtSq5uQ2"
      }
    },
    {
      "cell_type": "code",
      "source": [
        "lista_t2"
      ],
      "metadata": {
        "colab": {
          "base_uri": "https://localhost:8080/"
        },
        "id": "zyWA65Ub5ZGW",
        "outputId": "e598da1c-aca3-4600-a01f-b25b416cb1c1"
      },
      "execution_count": null,
      "outputs": [
        {
          "output_type": "execute_result",
          "data": {
            "text/plain": [
              "['A', 'B', 'C']"
            ]
          },
          "metadata": {},
          "execution_count": 29
        }
      ]
    },
    {
      "cell_type": "code",
      "source": [
        "lista_t2.append(\"D\")"
      ],
      "metadata": {
        "id": "1XRlxJcU5aT-"
      },
      "execution_count": null,
      "outputs": []
    },
    {
      "cell_type": "code",
      "source": [
        "# Usando a função tuple() para converter uma lista para tupla\n",
        "t2 = tuple(lista_t2)"
      ],
      "metadata": {
        "id": "c6WgsJqH5c8m"
      },
      "execution_count": null,
      "outputs": []
    }
  ]
}
