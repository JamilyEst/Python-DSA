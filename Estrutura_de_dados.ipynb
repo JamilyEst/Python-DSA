{
  "nbformat": 4,
  "nbformat_minor": 0,
  "metadata": {
    "colab": {
      "provenance": [],
      "authorship_tag": "ABX9TyPOuhlrAF3ELZ2uFG0HZSiP",
      "include_colab_link": true
    },
    "kernelspec": {
      "name": "python3",
      "display_name": "Python 3"
    },
    "language_info": {
      "name": "python"
    }
  },
  "cells": [
    {
      "cell_type": "markdown",
      "metadata": {
        "id": "view-in-github",
        "colab_type": "text"
      },
      "source": [
        "<a href=\"https://colab.research.google.com/github/JamilyEst/Python-DSA/blob/main/Estrutura_de_dados.ipynb\" target=\"_parent\"><img src=\"https://colab.research.google.com/assets/colab-badge.svg\" alt=\"Open In Colab\"/></a>"
      ]
    },
    {
      "cell_type": "markdown",
      "source": [
        "# **Dicionários**"
      ],
      "metadata": {
        "id": "eQ856u4ijplt"
      }
    },
    {
      "cell_type": "code",
      "execution_count": 3,
      "metadata": {
        "id": "fez7mcgcjXF6"
      },
      "outputs": [],
      "source": [
        "# Isso é uma Lista\n",
        "estudantes_lst = [\"Matheus\",24,\"Fernanda\",22,\"Tamires\", 26, \"Cristiano\", 25]"
      ]
    },
    {
      "cell_type": "code",
      "source": [
        "estudantes_lst"
      ],
      "metadata": {
        "colab": {
          "base_uri": "https://localhost:8080/"
        },
        "id": "RqAuWIuwmLfe",
        "outputId": "53b8c1cb-ce97-4271-ac15-ed93e133ac22"
      },
      "execution_count": 6,
      "outputs": [
        {
          "output_type": "execute_result",
          "data": {
            "text/plain": [
              "['Matheus', 24, 'Fernanda', 22, 'Tamires', 26, 'Cristiano', 25]"
            ]
          },
          "metadata": {},
          "execution_count": 6
        }
      ]
    },
    {
      "cell_type": "code",
      "source": [
        "# Isso é um dicionário\n",
        "estudantes_dict = {\"Matheus\":24,\"Fernanda\":22, \"Tamires\":26,\"Cristiano\":25}"
      ],
      "metadata": {
        "id": "kaIV8XLjmX11"
      },
      "execution_count": 8,
      "outputs": []
    },
    {
      "cell_type": "code",
      "source": [
        "estudantes_dict"
      ],
      "metadata": {
        "colab": {
          "base_uri": "https://localhost:8080/"
        },
        "id": "QmLw-AwYm7oU",
        "outputId": "b1ade177-b46a-4b9c-c7b3-bb09d119ef71"
      },
      "execution_count": 9,
      "outputs": [
        {
          "output_type": "execute_result",
          "data": {
            "text/plain": [
              "{'Matheus': 24, 'Fernanda': 22, 'Tamires': 26, 'Cristiano': 25}"
            ]
          },
          "metadata": {},
          "execution_count": 9
        }
      ]
    },
    {
      "cell_type": "code",
      "source": [
        "estudantes_dict[\"Matheus\"]"
      ],
      "metadata": {
        "colab": {
          "base_uri": "https://localhost:8080/"
        },
        "id": "DNYa9OOunEKc",
        "outputId": "4f0af554-6d77-4625-9748-464ca8f77798"
      },
      "execution_count": 10,
      "outputs": [
        {
          "output_type": "execute_result",
          "data": {
            "text/plain": [
              "24"
            ]
          },
          "metadata": {},
          "execution_count": 10
        }
      ]
    },
    {
      "cell_type": "code",
      "source": [
        "estudantes_dict[\"Pedro\"] = 23"
      ],
      "metadata": {
        "id": "XTBSw3MdnJI1"
      },
      "execution_count": 14,
      "outputs": []
    },
    {
      "cell_type": "code",
      "source": [
        "estudantes_dict[\"Pedro\"]"
      ],
      "metadata": {
        "colab": {
          "base_uri": "https://localhost:8080/"
        },
        "id": "Qlm-R8MrnPuJ",
        "outputId": "655b9b1f-795c-496c-88f3-719c862b95e3"
      },
      "execution_count": 15,
      "outputs": [
        {
          "output_type": "execute_result",
          "data": {
            "text/plain": [
              "23"
            ]
          },
          "metadata": {},
          "execution_count": 15
        }
      ]
    },
    {
      "cell_type": "code",
      "source": [
        "estudantes_dict[\"Tamires\"]"
      ],
      "metadata": {
        "colab": {
          "base_uri": "https://localhost:8080/"
        },
        "id": "kgsCtvFpnRy0",
        "outputId": "b1d83b19-b6ef-4b86-aff7-9565446e6e0b"
      },
      "execution_count": 16,
      "outputs": [
        {
          "output_type": "execute_result",
          "data": {
            "text/plain": [
              "26"
            ]
          },
          "metadata": {},
          "execution_count": 16
        }
      ]
    },
    {
      "cell_type": "code",
      "source": [
        "# Limpando estudantes_dict\n",
        "estudantes_dict.clear()\n"
      ],
      "metadata": {
        "id": "VRAsKPV1nUDj"
      },
      "execution_count": 18,
      "outputs": []
    },
    {
      "cell_type": "code",
      "source": [
        "estudantes_dict"
      ],
      "metadata": {
        "colab": {
          "base_uri": "https://localhost:8080/"
        },
        "id": "buB9JZVTnhFO",
        "outputId": "95724172-5d48-41f1-a3f1-42f27768e648"
      },
      "execution_count": 19,
      "outputs": [
        {
          "output_type": "execute_result",
          "data": {
            "text/plain": [
              "{}"
            ]
          },
          "metadata": {},
          "execution_count": 19
        }
      ]
    },
    {
      "cell_type": "code",
      "source": [
        "# Excluindo o dicionário estudantes_dict\n",
        "del estudantes_dict"
      ],
      "metadata": {
        "id": "kRp39cnPnjGe"
      },
      "execution_count": 20,
      "outputs": []
    },
    {
      "cell_type": "code",
      "source": [
        "estudantes = {\"Matheus\":24,\"Fernanda\":22,\"Tamires\":26,\"Cristiano\":25}"
      ],
      "metadata": {
        "id": "g9Qpr0L0oDvI"
      },
      "execution_count": 22,
      "outputs": []
    },
    {
      "cell_type": "code",
      "source": [
        "estudantes"
      ],
      "metadata": {
        "colab": {
          "base_uri": "https://localhost:8080/"
        },
        "id": "IqSDs5BLoFaY",
        "outputId": "e40d58a5-24e5-4c5d-e54e-d2b80a200b9d"
      },
      "execution_count": 23,
      "outputs": [
        {
          "output_type": "execute_result",
          "data": {
            "text/plain": [
              "{'Matheus': 24, 'Fernanda': 22, 'Tamires': 26, 'Cristiano': 25}"
            ]
          },
          "metadata": {},
          "execution_count": 23
        }
      ]
    },
    {
      "cell_type": "code",
      "source": [
        "len(estudantes)"
      ],
      "metadata": {
        "colab": {
          "base_uri": "https://localhost:8080/"
        },
        "id": "dCF2tihioZR0",
        "outputId": "45f7edfa-fb3c-465d-d558-0a34978ed581"
      },
      "execution_count": 24,
      "outputs": [
        {
          "output_type": "execute_result",
          "data": {
            "text/plain": [
              "4"
            ]
          },
          "metadata": {},
          "execution_count": 24
        }
      ]
    },
    {
      "cell_type": "code",
      "source": [
        "estudantes.keys()"
      ],
      "metadata": {
        "colab": {
          "base_uri": "https://localhost:8080/"
        },
        "id": "WCdLNaxNobzc",
        "outputId": "128e35fa-e15b-4afb-a0e0-e5777c40451b"
      },
      "execution_count": 25,
      "outputs": [
        {
          "output_type": "execute_result",
          "data": {
            "text/plain": [
              "dict_keys(['Matheus', 'Fernanda', 'Tamires', 'Cristiano'])"
            ]
          },
          "metadata": {},
          "execution_count": 25
        }
      ]
    },
    {
      "cell_type": "code",
      "source": [
        "estudantes.values()"
      ],
      "metadata": {
        "colab": {
          "base_uri": "https://localhost:8080/"
        },
        "id": "vAQTdWxaoi3M",
        "outputId": "509bab1c-4d37-41b8-903e-bb1ef50872b6"
      },
      "execution_count": 26,
      "outputs": [
        {
          "output_type": "execute_result",
          "data": {
            "text/plain": [
              "dict_values([24, 22, 26, 25])"
            ]
          },
          "metadata": {},
          "execution_count": 26
        }
      ]
    },
    {
      "cell_type": "code",
      "source": [
        "estudantes.items()"
      ],
      "metadata": {
        "colab": {
          "base_uri": "https://localhost:8080/"
        },
        "id": "yu54d41qooJD",
        "outputId": "df5da93d-8f23-48a1-c050-86a0abb3e5b3"
      },
      "execution_count": 31,
      "outputs": [
        {
          "output_type": "execute_result",
          "data": {
            "text/plain": [
              "dict_items([('Matheus', 24), ('Fernanda', 22), ('Tamires', 26), ('Cristiano', 25)])"
            ]
          },
          "metadata": {},
          "execution_count": 31
        }
      ]
    },
    {
      "cell_type": "code",
      "source": [
        "estudantes2 = {\"Maria\":22,\"Erika\":28, \"Milton\":26}"
      ],
      "metadata": {
        "id": "UksffPwmoqUb"
      },
      "execution_count": 33,
      "outputs": []
    },
    {
      "cell_type": "code",
      "source": [
        "estudantes2"
      ],
      "metadata": {
        "colab": {
          "base_uri": "https://localhost:8080/"
        },
        "id": "Z0UN5H8vosaD",
        "outputId": "8baeb245-13c3-4a11-ad69-9575e30cae33"
      },
      "execution_count": 34,
      "outputs": [
        {
          "output_type": "execute_result",
          "data": {
            "text/plain": [
              "{'Maria': 22, 'Erika': 28, 'Milton': 26}"
            ]
          },
          "metadata": {},
          "execution_count": 34
        }
      ]
    },
    {
      "cell_type": "code",
      "source": [
        "# Concatenção\n",
        "estudantes.update(estudantes2)"
      ],
      "metadata": {
        "id": "PaHIWweZpIR7"
      },
      "execution_count": 35,
      "outputs": []
    },
    {
      "cell_type": "code",
      "source": [
        "estudantes2"
      ],
      "metadata": {
        "colab": {
          "base_uri": "https://localhost:8080/"
        },
        "id": "p-yDvFlepLc7",
        "outputId": "452cc4e7-92fb-4ad3-eeb5-e2dbbe9fb6da"
      },
      "execution_count": 36,
      "outputs": [
        {
          "output_type": "execute_result",
          "data": {
            "text/plain": [
              "{'Matheus': 24,\n",
              " 'Fernanda': 22,\n",
              " 'Tamires': 26,\n",
              " 'Cristiano': 25,\n",
              " 'Maria': 22,\n",
              " 'Erika': 28,\n",
              " 'Milton': 26}"
            ]
          },
          "metadata": {},
          "execution_count": 36
        }
      ]
    },
    {
      "cell_type": "code",
      "source": [
        "dict1 = {}"
      ],
      "metadata": {
        "id": "ZtbreAr0pNLh"
      },
      "execution_count": 39,
      "outputs": []
    },
    {
      "cell_type": "code",
      "source": [
        "dict1"
      ],
      "metadata": {
        "colab": {
          "base_uri": "https://localhost:8080/"
        },
        "id": "WwQP2VZkpPR5",
        "outputId": "de76d4a0-fd39-4057-e4dd-36f573f163f4"
      },
      "execution_count": 38,
      "outputs": [
        {
          "output_type": "execute_result",
          "data": {
            "text/plain": [
              "{}"
            ]
          },
          "metadata": {},
          "execution_count": 38
        }
      ]
    },
    {
      "cell_type": "code",
      "source": [
        "dict1[\"key_one\"] = 2"
      ],
      "metadata": {
        "id": "SYeGUuampRTZ"
      },
      "execution_count": 41,
      "outputs": []
    },
    {
      "cell_type": "code",
      "source": [
        "dict1"
      ],
      "metadata": {
        "colab": {
          "base_uri": "https://localhost:8080/"
        },
        "id": "Y8JVhzHXpjNS",
        "outputId": "c63f241e-258d-46d6-a524-61aa6d16bc95"
      },
      "execution_count": 42,
      "outputs": [
        {
          "output_type": "execute_result",
          "data": {
            "text/plain": [
              "{'key_one': 2}"
            ]
          },
          "metadata": {},
          "execution_count": 42
        }
      ]
    },
    {
      "cell_type": "code",
      "source": [
        "print(dict1)"
      ],
      "metadata": {
        "colab": {
          "base_uri": "https://localhost:8080/"
        },
        "id": "iq7JGhSIpn9a",
        "outputId": "68e0caeb-6fb8-4efd-cd1a-971a4a7ef776"
      },
      "execution_count": 43,
      "outputs": [
        {
          "output_type": "stream",
          "name": "stdout",
          "text": [
            "{'key_one': 2}\n"
          ]
        }
      ]
    },
    {
      "cell_type": "code",
      "source": [
        "dict1[8.2] = \"Python\""
      ],
      "metadata": {
        "id": "z3PlP3Bxpq0k"
      },
      "execution_count": 44,
      "outputs": []
    },
    {
      "cell_type": "code",
      "source": [
        "dict1"
      ],
      "metadata": {
        "colab": {
          "base_uri": "https://localhost:8080/"
        },
        "id": "TSAILhtgpxYD",
        "outputId": "1ce110a9-0203-49ea-c726-b6c23167f1c3"
      },
      "execution_count": 45,
      "outputs": [
        {
          "output_type": "execute_result",
          "data": {
            "text/plain": [
              "{'key_one': 2, 8.2: 'Python'}"
            ]
          },
          "metadata": {},
          "execution_count": 45
        }
      ]
    },
    {
      "cell_type": "code",
      "source": [
        "dict1[\"teste\"]=5"
      ],
      "metadata": {
        "id": "SSyjoP4Jpyca"
      },
      "execution_count": 46,
      "outputs": []
    },
    {
      "cell_type": "code",
      "source": [
        "dict1"
      ],
      "metadata": {
        "colab": {
          "base_uri": "https://localhost:8080/"
        },
        "id": "3hNjBWiop3IS",
        "outputId": "be60ff0b-bb61-433c-de56-2f26e75dc165"
      },
      "execution_count": 47,
      "outputs": [
        {
          "output_type": "execute_result",
          "data": {
            "text/plain": [
              "{'key_one': 2, 8.2: 'Python', 'teste': 5}"
            ]
          },
          "metadata": {},
          "execution_count": 47
        }
      ]
    },
    {
      "cell_type": "code",
      "source": [
        "dict1 = {}"
      ],
      "metadata": {
        "id": "x2pqua8Ap3ns"
      },
      "execution_count": 49,
      "outputs": []
    },
    {
      "cell_type": "code",
      "source": [
        "dict1"
      ],
      "metadata": {
        "colab": {
          "base_uri": "https://localhost:8080/"
        },
        "id": "zc9MoOrlqVVz",
        "outputId": "0cd9ab95-0d60-47b2-fb78-3cc4b4f70afa"
      },
      "execution_count": 50,
      "outputs": [
        {
          "output_type": "execute_result",
          "data": {
            "text/plain": [
              "{}"
            ]
          },
          "metadata": {},
          "execution_count": 50
        }
      ]
    },
    {
      "cell_type": "code",
      "source": [
        "dict1[\"teste\"] = 10"
      ],
      "metadata": {
        "id": "ZqJLTbEnqWBj"
      },
      "execution_count": 51,
      "outputs": []
    },
    {
      "cell_type": "code",
      "source": [
        "dict1[\"key\"] = \"teste\""
      ],
      "metadata": {
        "id": "7ooM0obHqe47"
      },
      "execution_count": 52,
      "outputs": []
    },
    {
      "cell_type": "code",
      "source": [
        "# Atenção, pois chaves e valor podem ser iguais, mas representam coisas difrentes\n",
        "dict1"
      ],
      "metadata": {
        "colab": {
          "base_uri": "https://localhost:8080/"
        },
        "id": "Uu7sWtGJqj5S",
        "outputId": "f16b4020-b259-4b29-fb5d-749b7f6ff79d"
      },
      "execution_count": 55,
      "outputs": [
        {
          "output_type": "execute_result",
          "data": {
            "text/plain": [
              "{'teste': 10, 'key': 'teste'}"
            ]
          },
          "metadata": {},
          "execution_count": 55
        }
      ]
    },
    {
      "cell_type": "code",
      "source": [
        "dict2 = {}"
      ],
      "metadata": {
        "id": "a8-igGlSqqjK"
      },
      "execution_count": 56,
      "outputs": []
    },
    {
      "cell_type": "code",
      "source": [
        "dict2[\"key1\"] = \"Big Data\""
      ],
      "metadata": {
        "id": "jbDCF3dkqvBq"
      },
      "execution_count": 57,
      "outputs": []
    },
    {
      "cell_type": "code",
      "source": [
        "dict2[\"key2\"] = 10"
      ],
      "metadata": {
        "id": "WhvaKwxJq7Bo"
      },
      "execution_count": 58,
      "outputs": []
    },
    {
      "cell_type": "code",
      "source": [
        "dict2[\"key3\"]=5.6"
      ],
      "metadata": {
        "id": "lnLUibehq_AK"
      },
      "execution_count": 59,
      "outputs": []
    },
    {
      "cell_type": "code",
      "source": [
        "dict2"
      ],
      "metadata": {
        "colab": {
          "base_uri": "https://localhost:8080/"
        },
        "id": "zukD5pSrrDSq",
        "outputId": "a61429c3-a70d-47b9-fb6c-0b9bbadab1fe"
      },
      "execution_count": 60,
      "outputs": [
        {
          "output_type": "execute_result",
          "data": {
            "text/plain": [
              "{'key1': 'Big Data', 'key2': 10, 'key3': 5.6}"
            ]
          },
          "metadata": {},
          "execution_count": 60
        }
      ]
    },
    {
      "cell_type": "code",
      "source": [
        "a = dict2[\"key1\"]"
      ],
      "metadata": {
        "id": "Q2xuMktXrD6S"
      },
      "execution_count": 63,
      "outputs": []
    },
    {
      "cell_type": "code",
      "source": [
        "b = dict2[\"key2\"]"
      ],
      "metadata": {
        "id": "UwfhZVWErF_7"
      },
      "execution_count": 64,
      "outputs": []
    },
    {
      "cell_type": "code",
      "source": [
        "c = dict2[\"key3\"]"
      ],
      "metadata": {
        "id": "tLD_HpfPrGUK"
      },
      "execution_count": 65,
      "outputs": []
    },
    {
      "cell_type": "code",
      "source": [
        "a,b,c"
      ],
      "metadata": {
        "colab": {
          "base_uri": "https://localhost:8080/"
        },
        "id": "ulSfz5iorQ86",
        "outputId": "831f5d75-d66d-453a-d5e8-7d1a36bb816d"
      },
      "execution_count": 66,
      "outputs": [
        {
          "output_type": "execute_result",
          "data": {
            "text/plain": [
              "('Big Data', 10, 5.6)"
            ]
          },
          "metadata": {},
          "execution_count": 66
        }
      ]
    },
    {
      "cell_type": "markdown",
      "source": [
        "# **Dicionário de Listas**"
      ],
      "metadata": {
        "id": "suE7_SYSrbOm"
      }
    },
    {
      "cell_type": "code",
      "source": [
        "dict3 = {\"key1\":1230, \"key2\":[22,453,73.4], \"key3\":[\"leite\",\"maça\",\"batata\"]}"
      ],
      "metadata": {
        "id": "7P8Oxq4urfJe"
      },
      "execution_count": 70,
      "outputs": []
    },
    {
      "cell_type": "code",
      "source": [
        "dict3"
      ],
      "metadata": {
        "colab": {
          "base_uri": "https://localhost:8080/"
        },
        "id": "WUkFFMFtryTT",
        "outputId": "24b28692-860e-4585-f300-211816a61007"
      },
      "execution_count": 71,
      "outputs": [
        {
          "output_type": "execute_result",
          "data": {
            "text/plain": [
              "{'key1': 1230, 'key2': [22, 453, 73.4], 'key3': ['leite', 'maça', 'batata']}"
            ]
          },
          "metadata": {},
          "execution_count": 71
        }
      ]
    },
    {
      "cell_type": "code",
      "source": [
        "dict3[\"key2\"]"
      ],
      "metadata": {
        "colab": {
          "base_uri": "https://localhost:8080/"
        },
        "id": "R54ickT2rzUa",
        "outputId": "d9235130-9cdd-4b4b-872c-6fd71cec0c45"
      },
      "execution_count": 72,
      "outputs": [
        {
          "output_type": "execute_result",
          "data": {
            "text/plain": [
              "[22, 453, 73.4]"
            ]
          },
          "metadata": {},
          "execution_count": 72
        }
      ]
    },
    {
      "cell_type": "code",
      "source": [
        "# Acessando um item da lista dentro do dicionário\n",
        "dict3[\"key3\"][0].upper()"
      ],
      "metadata": {
        "colab": {
          "base_uri": "https://localhost:8080/",
          "height": 35
        },
        "id": "6Z_jM5eWr2ZD",
        "outputId": "e48a18e6-59ee-4f0c-852a-152a23fa6930"
      },
      "execution_count": 81,
      "outputs": [
        {
          "output_type": "execute_result",
          "data": {
            "text/plain": [
              "'LEITE'"
            ],
            "application/vnd.google.colaboratory.intrinsic+json": {
              "type": "string"
            }
          },
          "metadata": {},
          "execution_count": 81
        }
      ]
    },
    {
      "cell_type": "code",
      "source": [
        "# Opeações com itens da lista, dentro do dicionário\n",
        "var1 = dict3[\"key3\"][0]=2"
      ],
      "metadata": {
        "id": "vAzicCOSsEhJ"
      },
      "execution_count": 83,
      "outputs": []
    },
    {
      "cell_type": "code",
      "source": [
        "var1"
      ],
      "metadata": {
        "colab": {
          "base_uri": "https://localhost:8080/"
        },
        "id": "WZPe4gQLsLR5",
        "outputId": "b6f8f771-5187-4635-df72-bd595d3b8af9"
      },
      "execution_count": 84,
      "outputs": [
        {
          "output_type": "execute_result",
          "data": {
            "text/plain": [
              "2"
            ]
          },
          "metadata": {},
          "execution_count": 84
        }
      ]
    },
    {
      "cell_type": "code",
      "source": [
        "# Duas operações no mesmo comando, para atualizar um item dentro da lista\n",
        "dict3[\"key2\"][0]-=2"
      ],
      "metadata": {
        "id": "1tf-uzCdsjg6"
      },
      "execution_count": 85,
      "outputs": []
    },
    {
      "cell_type": "code",
      "source": [
        "dict3"
      ],
      "metadata": {
        "colab": {
          "base_uri": "https://localhost:8080/"
        },
        "id": "l7NSJckIsvOi",
        "outputId": "bde9d0ae-0687-4533-9e6d-925f32bc5afe"
      },
      "execution_count": 86,
      "outputs": [
        {
          "output_type": "execute_result",
          "data": {
            "text/plain": [
              "{'key1': 1230, 'key2': [20, 453, 73.4], 'key3': [2, 'maça', 'batata']}"
            ]
          },
          "metadata": {},
          "execution_count": 86
        }
      ]
    },
    {
      "cell_type": "markdown",
      "source": [
        "# **Criando Dicionários Aninhados **"
      ],
      "metadata": {
        "id": "7xBSiBo6s6vi"
      }
    },
    {
      "cell_type": "code",
      "source": [
        "# Criando dicionários aninhados\n",
        "dict_aninhado = {\"key1\":{\"key2_aninhada\":{\"key3_aninhada\":\"Dict aninhado em Python\"}}}"
      ],
      "metadata": {
        "id": "AV8KOjWPsxyK"
      },
      "execution_count": 87,
      "outputs": []
    },
    {
      "cell_type": "code",
      "source": [
        "dict_aninhado"
      ],
      "metadata": {
        "colab": {
          "base_uri": "https://localhost:8080/"
        },
        "id": "45vO_1Mlth1C",
        "outputId": "d00ee098-d3c3-45a6-d6ac-9d7aabe2eb1d"
      },
      "execution_count": 88,
      "outputs": [
        {
          "output_type": "execute_result",
          "data": {
            "text/plain": [
              "{'key1': {'key2_aninhada': {'key3_aninhada': 'Dict aninhado em Python'}}}"
            ]
          },
          "metadata": {},
          "execution_count": 88
        }
      ]
    },
    {
      "cell_type": "code",
      "source": [
        "dict_aninhado[\"key1\"][\"key2_aninhada\"][\"key3_aninhada\"]"
      ],
      "metadata": {
        "colab": {
          "base_uri": "https://localhost:8080/",
          "height": 35
        },
        "id": "lUy1ozxytj-B",
        "outputId": "917629fa-f253-462d-a197-4e91a1750cd8"
      },
      "execution_count": 89,
      "outputs": [
        {
          "output_type": "execute_result",
          "data": {
            "text/plain": [
              "'Dict aninhado em Python'"
            ],
            "application/vnd.google.colaboratory.intrinsic+json": {
              "type": "string"
            }
          },
          "metadata": {},
          "execution_count": 89
        }
      ]
    }
  ]
}