{
  "nbformat": 4,
  "nbformat_minor": 0,
  "metadata": {
    "colab": {
      "provenance": [],
      "authorship_tag": "ABX9TyPKr4L5/5huNqMdUKW2fxCH",
      "include_colab_link": true
    },
    "kernelspec": {
      "name": "python3",
      "display_name": "Python 3"
    },
    "language_info": {
      "name": "python"
    }
  },
  "cells": [
    {
      "cell_type": "markdown",
      "metadata": {
        "id": "view-in-github",
        "colab_type": "text"
      },
      "source": [
        "<a href=\"https://colab.research.google.com/github/JamilyEst/Python-DSA/blob/main/Cap_3_Calculadora.ipynb\" target=\"_parent\"><img src=\"https://colab.research.google.com/assets/colab-badge.svg\" alt=\"Open In Colab\"/></a>"
      ]
    },
    {
      "cell_type": "code",
      "source": [
        "print(\"------------Calculadora ------------\")\n",
        "print(\"selecione a opção\")\n",
        "print(\"1 - soma\")\n",
        "print(\"2 - subtração\")\n",
        "print(\"3 - multiplicação\")\n",
        "print(\"4 - divisão\")\n",
        "\n",
        "opera= int(input(\"Digite a operação desejada \"))\n",
        "\n",
        "if opera > 4:\n",
        "  print(\"Resultado invalido\")\n",
        "  opera= int(input(\"Digite a operação desejada \"))\n",
        "\n",
        "num_1 = float(input(\"Digite o primeiro número \"))\n",
        "num_2 = float(input(\"Digite o segundo número\"))\n",
        "\n",
        "if opera == 1:\n",
        "  resul = num_1 + num_2\n",
        "if opera == 2:\n",
        "  resul = num_1 - num_2\n",
        "if opera == 3:\n",
        "  resul = num_1 * num_2\n",
        "else: \n",
        "  resul =num_1 / num_2\n",
        "\n",
        "print(\"O resultado é\", resul)"
      ],
      "metadata": {
        "colab": {
          "base_uri": "https://localhost:8080/"
        },
        "id": "Mu0n5Nj40OZC",
        "outputId": "31e955eb-b944-42c6-cf4d-69e5da3e68ae"
      },
      "execution_count": 33,
      "outputs": [
        {
          "output_type": "stream",
          "name": "stdout",
          "text": [
            "------------Calculadora ------------\n",
            "selecione a opção\n",
            "1 - soma\n",
            "2 - subtração\n",
            "3 - multiplicação\n",
            "4 - divisão\n",
            "Digite a operação desejada 1\n",
            "Digite o primeiro número 2\n",
            "Digite o segundo número2\n",
            "O resultado é 1.0\n"
          ]
        }
      ]
    },
    {
      "cell_type": "code",
      "source": [],
      "metadata": {
        "colab": {
          "base_uri": "https://localhost:8080/"
        },
        "id": "4DOptxnjzhGq",
        "outputId": "9973ba77-6b87-44e3-bb63-2d7f84331d89"
      },
      "execution_count": 22,
      "outputs": [
        {
          "name": "stdout",
          "output_type": "stream",
          "text": [
            "Digite a operação desejada 4\n"
          ]
        }
      ]
    },
    {
      "cell_type": "code",
      "source": [],
      "metadata": {
        "id": "VDmUbOIm1awB"
      },
      "execution_count": null,
      "outputs": []
    },
    {
      "cell_type": "code",
      "source": [],
      "metadata": {
        "colab": {
          "base_uri": "https://localhost:8080/"
        },
        "id": "WOiBkeP10SGe",
        "outputId": "0730a325-81fa-49b2-d7bc-a488da4c6571"
      },
      "execution_count": 23,
      "outputs": [
        {
          "name": "stdout",
          "output_type": "stream",
          "text": [
            "Digite o primeiro número 1\n",
            "Digite o segundo número1\n"
          ]
        }
      ]
    },
    {
      "cell_type": "code",
      "source": [],
      "metadata": {
        "colab": {
          "base_uri": "https://localhost:8080/"
        },
        "id": "glzAgD2P09Wl",
        "outputId": "71c1005f-272a-4f14-ef2f-86cd4a09d30d"
      },
      "execution_count": 30,
      "outputs": [
        {
          "output_type": "stream",
          "name": "stdout",
          "text": [
            "1.0\n"
          ]
        }
      ]
    },
    {
      "cell_type": "code",
      "source": [],
      "metadata": {
        "id": "ZL8OeNSi6ykj"
      },
      "execution_count": null,
      "outputs": []
    },
    {
      "cell_type": "code",
      "source": [],
      "metadata": {
        "id": "yhyUomN-6yhN"
      },
      "execution_count": null,
      "outputs": []
    },
    {
      "cell_type": "code",
      "source": [],
      "metadata": {
        "colab": {
          "base_uri": "https://localhost:8080/"
        },
        "id": "z98UwX046uh8",
        "outputId": "82b2acd3-a01f-49c7-f88a-9f4639c0f025"
      },
      "execution_count": 29,
      "outputs": [
        {
          "output_type": "stream",
          "name": "stdout",
          "text": [
            "1.0\n"
          ]
        }
      ]
    }
  ]
}