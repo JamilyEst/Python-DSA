{
  "nbformat": 4,
  "nbformat_minor": 0,
  "metadata": {
    "colab": {
      "provenance": [],
      "authorship_tag": "ABX9TyPMYHib3gpOShPDiOn63s9W",
      "include_colab_link": true
    },
    "kernelspec": {
      "name": "python3",
      "display_name": "Python 3"
    },
    "language_info": {
      "name": "python"
    }
  },
  "cells": [
    {
      "cell_type": "markdown",
      "metadata": {
        "id": "view-in-github",
        "colab_type": "text"
      },
      "source": [
        "<a href=\"https://colab.research.google.com/github/JamilyEst/Python-DSA/blob/main/Cap_3_Criando_Fun%C3%A7%C3%B5es.ipynb\" target=\"_parent\"><img src=\"https://colab.research.google.com/assets/colab-badge.svg\" alt=\"Open In Colab\"/></a>"
      ]
    },
    {
      "cell_type": "markdown",
      "source": [
        "# **Criando funções usando outras funções**"
      ],
      "metadata": {
        "id": "AeyRTCASNt0H"
      }
    },
    {
      "cell_type": "code",
      "execution_count": 11,
      "metadata": {
        "id": "iVVBBu7YNpnK"
      },
      "outputs": [],
      "source": [
        "import math # importação de dados no pacote math\n",
        "\n",
        "def numPrimo(num):\n",
        "    '''\n",
        "    Verificando se um número\n",
        "    é primo.\n",
        "    '''\n",
        "    if(num % 2) == 0 and num > 2:\n",
        "        return \"Este número não é primo\"\n",
        "    for i in range(3, int(math.sqrt(num)) + 1,2):\n",
        "        if (num % i) == 0:\n",
        "            return \"Este número não é primo\"\n",
        "    return \"Este número é primo\""
      ]
    },
    {
      "cell_type": "code",
      "source": [
        "numPrimo(5)"
      ],
      "metadata": {
        "colab": {
          "base_uri": "https://localhost:8080/",
          "height": 35
        },
        "id": "K4JcwvxBOTYn",
        "outputId": "6addbf54-e530-47e1-ae94-5c9efc86646b"
      },
      "execution_count": 12,
      "outputs": [
        {
          "output_type": "execute_result",
          "data": {
            "text/plain": [
              "'Este número é primo'"
            ],
            "application/vnd.google.colaboratory.intrinsic+json": {
              "type": "string"
            }
          },
          "metadata": {},
          "execution_count": 12
        }
      ]
    },
    {
      "cell_type": "code",
      "source": [
        "numPrimo(9)"
      ],
      "metadata": {
        "colab": {
          "base_uri": "https://localhost:8080/",
          "height": 35
        },
        "id": "tw57O3jwOtoV",
        "outputId": "9ee40350-21e4-4773-93c3-14f13fecb63e"
      },
      "execution_count": 13,
      "outputs": [
        {
          "output_type": "execute_result",
          "data": {
            "text/plain": [
              "'Este número não é primo'"
            ],
            "application/vnd.google.colaboratory.intrinsic+json": {
              "type": "string"
            }
          },
          "metadata": {},
          "execution_count": 13
        }
      ]
    },
    {
      "cell_type": "markdown",
      "source": [
        "# **Fazendo split dos dados**"
      ],
      "metadata": {
        "id": "nfvf9ivaOyql"
      }
    },
    {
      "cell_type": "code",
      "source": [
        "#Fazendo split dos dados\n",
        "def split_string(text):\n",
        "    return text.split(\" \")"
      ],
      "metadata": {
        "id": "9zfGVYnOOv5d"
      },
      "execution_count": 14,
      "outputs": []
    },
    {
      "cell_type": "code",
      "source": [
        "texto = \"Esta função será bastante útil para separar grandes volumes de dados\""
      ],
      "metadata": {
        "id": "x2JxUXcnPjdb"
      },
      "execution_count": 15,
      "outputs": []
    },
    {
      "cell_type": "code",
      "source": [
        "# Isso divide a string em uma lista.\n",
        "print(split_string(texto))"
      ],
      "metadata": {
        "colab": {
          "base_uri": "https://localhost:8080/"
        },
        "id": "JbEEADiMPpLz",
        "outputId": "6b0ac971-e1c4-4236-e2c0-483223d6eeef"
      },
      "execution_count": 16,
      "outputs": [
        {
          "output_type": "stream",
          "name": "stdout",
          "text": [
            "['Esta', 'função', 'será', 'bastante', 'útil', 'para', 'separar', 'grandes', 'volumes', 'de', 'dados']\n"
          ]
        }
      ]
    },
    {
      "cell_type": "code",
      "source": [
        "#Podemos atribuir o output de uma função, para uma variável\n",
        "token = split_string(texto)"
      ],
      "metadata": {
        "id": "164QygQLPu87"
      },
      "execution_count": 17,
      "outputs": []
    },
    {
      "cell_type": "code",
      "source": [
        "token"
      ],
      "metadata": {
        "colab": {
          "base_uri": "https://localhost:8080/"
        },
        "id": "baB0YMOHP4kZ",
        "outputId": "1f495beb-bfb6-4988-ee62-09ba40f192be"
      },
      "execution_count": 18,
      "outputs": [
        {
          "output_type": "execute_result",
          "data": {
            "text/plain": [
              "['Esta',\n",
              " 'função',\n",
              " 'será',\n",
              " 'bastante',\n",
              " 'útil',\n",
              " 'para',\n",
              " 'separar',\n",
              " 'grandes',\n",
              " 'volumes',\n",
              " 'de',\n",
              " 'dados']"
            ]
          },
          "metadata": {},
          "execution_count": 18
        }
      ]
    },
    {
      "cell_type": "code",
      "source": [
        "caixa_baixa = \"Este Texto Deveria Estar Todo Em LowerCase\""
      ],
      "metadata": {
        "id": "zJWKJ5N0QOb-"
      },
      "execution_count": 19,
      "outputs": []
    },
    {
      "cell_type": "code",
      "source": [
        "def lowercase(text):\n",
        "    return text.lower()"
      ],
      "metadata": {
        "id": "qjY2qTmPQW5E"
      },
      "execution_count": 20,
      "outputs": []
    },
    {
      "cell_type": "code",
      "source": [
        "lowercased_string = lowercase(caixa_baixa)"
      ],
      "metadata": {
        "id": "SS7pliqDQd2S"
      },
      "execution_count": 21,
      "outputs": []
    },
    {
      "cell_type": "code",
      "source": [
        "lowercased_string"
      ],
      "metadata": {
        "colab": {
          "base_uri": "https://localhost:8080/",
          "height": 35
        },
        "id": "PFZfXyVsQkcq",
        "outputId": "5bf1ad8a-60b9-4b92-ccfe-8717e7dc1a71"
      },
      "execution_count": 22,
      "outputs": [
        {
          "output_type": "execute_result",
          "data": {
            "text/plain": [
              "'este texto deveria estar todo em lowercase'"
            ],
            "application/vnd.google.colaboratory.intrinsic+json": {
              "type": "string"
            }
          },
          "metadata": {},
          "execution_count": 22
        }
      ]
    },
    {
      "cell_type": "code",
      "source": [
        "# Funções com número variável de argumentos\n",
        "def printVarInfo(arg1, *vartuple):\n",
        "    #Imprimindo o valor do primeiro argumrnto3\n",
        "    print(\"O parâmetro passado foi:\", arg1)\n",
        "\n",
        "    #Imprimindo o valor do segundo argumrnto\n",
        "    for item in vartuple:\n",
        "        print(\"O parâmetro passado foi: \", item)\n",
        "    return;"
      ],
      "metadata": {
        "id": "JA1BbfxpRq3i"
      },
      "execution_count": 23,
      "outputs": []
    },
    {
      "cell_type": "code",
      "source": [
        "# Fazendo chamada á função usando apenas 1 argumento\n",
        "printVarInfo(10)"
      ],
      "metadata": {
        "colab": {
          "base_uri": "https://localhost:8080/"
        },
        "id": "MN96QLq9SOqd",
        "outputId": "62273481-3a1b-43cf-f01a-a3841b81056e"
      },
      "execution_count": 24,
      "outputs": [
        {
          "output_type": "stream",
          "name": "stdout",
          "text": [
            "O parâmetro passado foi: 10\n"
          ]
        }
      ]
    },
    {
      "cell_type": "code",
      "source": [
        "printVarInfo('Chocolate', 'Morango', 'Banana' )"
      ],
      "metadata": {
        "colab": {
          "base_uri": "https://localhost:8080/"
        },
        "id": "I-yFwGmzSfkJ",
        "outputId": "cb2e53d8-edd7-407d-93c5-8f426e917a1f"
      },
      "execution_count": 25,
      "outputs": [
        {
          "output_type": "stream",
          "name": "stdout",
          "text": [
            "O parâmetro passado foi: Chocolate\n",
            "O parâmetro passado foi:  Morango\n",
            "O parâmetro passado foi:  Banana\n"
          ]
        }
      ]
    },
    {
      "cell_type": "code",
      "source": [],
      "metadata": {
        "id": "AJgunLQmSmeJ"
      },
      "execution_count": null,
      "outputs": []
    }
  ]
}