{
  "nbformat": 4,
  "nbformat_minor": 0,
  "metadata": {
    "colab": {
      "provenance": [],
      "toc_visible": true,
      "authorship_tag": "ABX9TyNSJu5caFRck6uYjcDcoIoU",
      "include_colab_link": true
    },
    "kernelspec": {
      "name": "python3",
      "display_name": "Python 3"
    },
    "language_info": {
      "name": "python"
    }
  },
  "cells": [
    {
      "cell_type": "markdown",
      "metadata": {
        "id": "view-in-github",
        "colab_type": "text"
      },
      "source": [
        "<a href=\"https://colab.research.google.com/github/JamilyEst/Python-DSA/blob/main/Estrutura_Condicional_If_e_Else.ipynb\" target=\"_parent\"><img src=\"https://colab.research.google.com/assets/colab-badge.svg\" alt=\"Open In Colab\"/></a>"
      ]
    },
    {
      "cell_type": "markdown",
      "source": [
        "# **Estrutura Consicional**"
      ],
      "metadata": {
        "id": "Ny6Jq6gXFyDM"
      }
    },
    {
      "cell_type": "code",
      "execution_count": 1,
      "metadata": {
        "colab": {
          "base_uri": "https://localhost:8080/"
        },
        "id": "4WgJnyQUFeXU",
        "outputId": "9ed41cc8-75fe-45f9-f3e9-1a66208172ae"
      },
      "outputs": [
        {
          "output_type": "stream",
          "name": "stdout",
          "text": [
            "Python funcional\n"
          ]
        }
      ],
      "source": [
        "# Condicional If\n",
        "if 5 > 2:\n",
        "    print(\"Python funciona!\")"
      ]
    },
    {
      "cell_type": "code",
      "source": [
        "#Condicional If e Else\n",
        "if 5<2:\n",
        "  print(\"Python funciona!\")\n",
        "else:\n",
        "    print(\"Algo está errado\")  "
      ],
      "metadata": {
        "colab": {
          "base_uri": "https://localhost:8080/"
        },
        "id": "6k3_M-sgGDPn",
        "outputId": "21680305-87aa-434a-bfdb-8ad3ed1e99e1"
      },
      "execution_count": 4,
      "outputs": [
        {
          "output_type": "stream",
          "name": "stdout",
          "text": [
            "Algo está errado\n"
          ]
        }
      ]
    },
    {
      "cell_type": "code",
      "source": [
        "6>3"
      ],
      "metadata": {
        "colab": {
          "base_uri": "https://localhost:8080/"
        },
        "id": "qgmRse1PGT8S",
        "outputId": "29d0d87a-b92e-4868-a9e9-00d349c09267"
      },
      "execution_count": 5,
      "outputs": [
        {
          "output_type": "execute_result",
          "data": {
            "text/plain": [
              "True"
            ]
          },
          "metadata": {},
          "execution_count": 5
        }
      ]
    },
    {
      "cell_type": "code",
      "source": [
        "3>7"
      ],
      "metadata": {
        "colab": {
          "base_uri": "https://localhost:8080/"
        },
        "id": "IBjgELzNGbaa",
        "outputId": "3678b879-631b-49b4-b5a4-224b684deb9a"
      },
      "execution_count": 6,
      "outputs": [
        {
          "output_type": "execute_result",
          "data": {
            "text/plain": [
              "False"
            ]
          },
          "metadata": {},
          "execution_count": 6
        }
      ]
    },
    {
      "cell_type": "code",
      "source": [
        "4>=4"
      ],
      "metadata": {
        "colab": {
          "base_uri": "https://localhost:8080/"
        },
        "id": "J654DfSiGcl5",
        "outputId": "754b8a83-e2ce-4b38-cddf-ddc0ec2a95b6"
      },
      "execution_count": 7,
      "outputs": [
        {
          "output_type": "execute_result",
          "data": {
            "text/plain": [
              "True"
            ]
          },
          "metadata": {},
          "execution_count": 7
        }
      ]
    },
    {
      "cell_type": "code",
      "source": [
        "if 5==5:\n",
        "  print(\"Testando Python\")"
      ],
      "metadata": {
        "colab": {
          "base_uri": "https://localhost:8080/"
        },
        "id": "pYwtRZSnGeDC",
        "outputId": "2e351e1e-f247-41ec-dc9d-f02f21223b31"
      },
      "execution_count": 10,
      "outputs": [
        {
          "output_type": "stream",
          "name": "stdout",
          "text": [
            "Testando Python\n"
          ]
        }
      ]
    },
    {
      "cell_type": "code",
      "source": [
        "if True:\n",
        "    print(\"Python funciona\")"
      ],
      "metadata": {
        "colab": {
          "base_uri": "https://localhost:8080/"
        },
        "id": "GfBnQh_CGicq",
        "outputId": "ae4c2e39-bb4b-4e94-af24-2675c8e8b9e2"
      },
      "execution_count": 11,
      "outputs": [
        {
          "output_type": "stream",
          "name": "stdout",
          "text": [
            "Python funciona\n"
          ]
        }
      ]
    },
    {
      "cell_type": "code",
      "source": [],
      "metadata": {
        "id": "E3s1Ht92GvLK"
      },
      "execution_count": null,
      "outputs": []
    },
    {
      "cell_type": "markdown",
      "source": [
        "**Condicionais aninhadas**"
      ],
      "metadata": {
        "id": "1o3Z5YgwGyLm"
      }
    },
    {
      "cell_type": "code",
      "source": [
        "idade = 18\n",
        "if idade > 17:\n",
        "    print(\"Você pode dirigir\")"
      ],
      "metadata": {
        "colab": {
          "base_uri": "https://localhost:8080/"
        },
        "id": "4UaKxLyAG67j",
        "outputId": "b11d4610-faf2-40d4-bad3-fe18efd730be"
      },
      "execution_count": 14,
      "outputs": [
        {
          "output_type": "stream",
          "name": "stdout",
          "text": [
            "Você pode dirigir\n"
          ]
        }
      ]
    },
    {
      "cell_type": "code",
      "source": [
        "Nome = \"bob\"\n",
        "if idade > 13:\n",
        "    if Nome == \"bob\":\n",
        "      print(\"Ok\")\n",
        "    else:\n",
        "      print(\"sorry\")"
      ],
      "metadata": {
        "colab": {
          "base_uri": "https://localhost:8080/"
        },
        "id": "isQBXlzhG8PR",
        "outputId": "d2c35d4a-26b2-4583-8a1e-0d2e46532726"
      },
      "execution_count": 17,
      "outputs": [
        {
          "output_type": "stream",
          "name": "stdout",
          "text": [
            "Ok\n"
          ]
        }
      ]
    },
    {
      "cell_type": "code",
      "source": [
        "idade = 13\n",
        "Nome = \"Bob\"\n",
        "if idade >= 13 and Nome == \"Bob\":\n",
        "    print(\"OK\")"
      ],
      "metadata": {
        "colab": {
          "base_uri": "https://localhost:8080/"
        },
        "id": "R9BPZNNIM2CA",
        "outputId": "2e1e8706-77c7-404d-d3e7-4c345ee8ce49"
      },
      "execution_count": 19,
      "outputs": [
        {
          "output_type": "stream",
          "name": "stdout",
          "text": [
            "OK\n"
          ]
        }
      ]
    },
    {
      "cell_type": "code",
      "source": [
        "idade = 13\n",
        "Nome =\"bob\"\n",
        "if (idade >=13) or (Nome == \"Bob\"):\n",
        "    print(\"OK\")"
      ],
      "metadata": {
        "colab": {
          "base_uri": "https://localhost:8080/"
        },
        "id": "ET88vxzINiaq",
        "outputId": "445a358c-adaf-4d83-d5f8-70174242c712"
      },
      "execution_count": 20,
      "outputs": [
        {
          "output_type": "stream",
          "name": "stdout",
          "text": [
            "OK\n"
          ]
        }
      ]
    },
    {
      "cell_type": "code",
      "source": [],
      "metadata": {
        "id": "4Nehuv2fN77J"
      },
      "execution_count": null,
      "outputs": []
    },
    {
      "cell_type": "code",
      "source": [
        "from google.colab import drive\n",
        "drive.mount('/content/drive')"
      ],
      "metadata": {
        "id": "e8ZDxcsfOSAQ"
      },
      "execution_count": null,
      "outputs": []
    }
  ]
}