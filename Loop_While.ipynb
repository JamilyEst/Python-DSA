{
  "nbformat": 4,
  "nbformat_minor": 0,
  "metadata": {
    "colab": {
      "provenance": [],
      "authorship_tag": "ABX9TyNJz+wIa0WFisAQMfRHIs6E",
      "include_colab_link": true
    },
    "kernelspec": {
      "name": "python3",
      "display_name": "Python 3"
    },
    "language_info": {
      "name": "python"
    }
  },
  "cells": [
    {
      "cell_type": "markdown",
      "metadata": {
        "id": "view-in-github",
        "colab_type": "text"
      },
      "source": [
        "<a href=\"https://colab.research.google.com/github/JamilyEst/Python-DSA/blob/main/Loop_While.ipynb\" target=\"_parent\"><img src=\"https://colab.research.google.com/assets/colab-badge.svg\" alt=\"Open In Colab\"/></a>"
      ]
    },
    {
      "cell_type": "markdown",
      "source": [
        "Whilw"
      ],
      "metadata": {
        "id": "G72vHz4IgQeN"
      }
    },
    {
      "cell_type": "code",
      "execution_count": 2,
      "metadata": {
        "colab": {
          "base_uri": "https://localhost:8080/"
        },
        "id": "XItFPS2QerzC",
        "outputId": "fef17648-6dc7-4cee-b1ba-2c0c2bf1a8e7"
      },
      "outputs": [
        {
          "output_type": "stream",
          "name": "stdout",
          "text": [
            "0\n",
            "1\n",
            "2\n",
            "3\n",
            "4\n",
            "5\n",
            "6\n",
            "7\n",
            "8\n",
            "9\n"
          ]
        }
      ],
      "source": [
        "# Usando o loop while para imprimir os valores de 0 a 9\n",
        "counter = 0\n",
        "while  counter < 10:\n",
        "    print(counter)\n",
        "    counter = counter + 1\n"
      ]
    },
    {
      "cell_type": "code",
      "source": [
        "# Também é possível usar a claúsula else para encerrar o loop while\n",
        "x = 0\n",
        "\n",
        "while x < 10:\n",
        "    print(\"O valor de x nesta interação é:\",x)\n",
        "    print(\"x ainda é menor que 10, somando 1 a x\")\n",
        "    x +=1\n",
        "\n",
        "else:\n",
        "    print(\"Loop concluido\")"
      ],
      "metadata": {
        "colab": {
          "base_uri": "https://localhost:8080/"
        },
        "id": "E8Jpeitrgq7m",
        "outputId": "c87d2c3a-d2d9-41d3-d767-d95b0a1e6bce"
      },
      "execution_count": 3,
      "outputs": [
        {
          "output_type": "stream",
          "name": "stdout",
          "text": [
            "O valor de x nesta interação é: 0\n",
            "x ainda é menor que 10, somando 1 a x\n",
            "O valor de x nesta interação é: 1\n",
            "x ainda é menor que 10, somando 1 a x\n",
            "O valor de x nesta interação é: 2\n",
            "x ainda é menor que 10, somando 1 a x\n",
            "O valor de x nesta interação é: 3\n",
            "x ainda é menor que 10, somando 1 a x\n",
            "O valor de x nesta interação é: 4\n",
            "x ainda é menor que 10, somando 1 a x\n",
            "O valor de x nesta interação é: 5\n",
            "x ainda é menor que 10, somando 1 a x\n",
            "O valor de x nesta interação é: 6\n",
            "x ainda é menor que 10, somando 1 a x\n",
            "O valor de x nesta interação é: 7\n",
            "x ainda é menor que 10, somando 1 a x\n",
            "O valor de x nesta interação é: 8\n",
            "x ainda é menor que 10, somando 1 a x\n",
            "O valor de x nesta interação é: 9\n",
            "x ainda é menor que 10, somando 1 a x\n",
            "Loop concluido\n"
          ]
        }
      ]
    }
  ]
}