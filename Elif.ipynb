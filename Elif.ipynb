{
  "nbformat": 4,
  "nbformat_minor": 0,
  "metadata": {
    "colab": {
      "provenance": [],
      "authorship_tag": "ABX9TyOlbVs+VXbklie6/tjn8t+G",
      "include_colab_link": true
    },
    "kernelspec": {
      "name": "python3",
      "display_name": "Python 3"
    },
    "language_info": {
      "name": "python"
    }
  },
  "cells": [
    {
      "cell_type": "markdown",
      "metadata": {
        "id": "view-in-github",
        "colab_type": "text"
      },
      "source": [
        "<a href=\"https://colab.research.google.com/github/JamilyEst/Python-DSA/blob/main/Elif.ipynb\" target=\"_parent\"><img src=\"https://colab.research.google.com/assets/colab-badge.svg\" alt=\"Open In Colab\"/></a>"
      ]
    },
    {
      "cell_type": "markdown",
      "source": [
        "# **Condicionais Aninhados**"
      ],
      "metadata": {
        "id": "P0Vg7WKXVZGZ"
      }
    },
    {
      "cell_type": "code",
      "execution_count": 3,
      "metadata": {
        "colab": {
          "base_uri": "https://localhost:8080/"
        },
        "id": "cLXEgQgaVXm0",
        "outputId": "91bbd74c-f85b-42cc-8039-d1abda2dcbed"
      },
      "outputs": [
        {
          "output_type": "stream",
          "name": "stdout",
          "text": [
            "Bob pode dirigir\n"
          ]
        }
      ],
      "source": [
        "idade = 13\n",
        "if idade > 12:\n",
        "  print(\"Bob pode dirigir\")"
      ]
    },
    {
      "cell_type": "code",
      "source": [
        "idade = 13\n",
        "Nome = \"Bob\"\n",
        "if idade > 12:\n",
        "    if Nome == \"Bob\":\n",
        "      print(\"Bob pode dirigir\")\n",
        "    else:\n",
        "        print(\"Bob não pode dirigir\")"
      ],
      "metadata": {
        "colab": {
          "base_uri": "https://localhost:8080/"
        },
        "id": "jmlbZhTsVvT_",
        "outputId": "1b9f258d-167e-4d40-a6b1-667fcf9fdf18"
      },
      "execution_count": 4,
      "outputs": [
        {
          "output_type": "stream",
          "name": "stdout",
          "text": [
            "Bob pode dirigir\n"
          ]
        }
      ]
    },
    {
      "cell_type": "code",
      "source": [
        "if idade == 13 and Nome == \"Bob\":\n",
        "  print(\"João pode dirigir\")"
      ],
      "metadata": {
        "colab": {
          "base_uri": "https://localhost:8080/"
        },
        "id": "CRQwL0soWLq3",
        "outputId": "395e2fa0-6751-4dd5-89cf-a5a59d1c6326"
      },
      "execution_count": 5,
      "outputs": [
        {
          "output_type": "stream",
          "name": "stdout",
          "text": [
            "João pode dirigir\n"
          ]
        }
      ]
    },
    {
      "cell_type": "code",
      "source": [
        "if idade == 13 or Nome == \"Bob\":\n",
        "  print(\"João pode dirigir\")"
      ],
      "metadata": {
        "colab": {
          "base_uri": "https://localhost:8080/"
        },
        "id": "YEjiCA4TWW3w",
        "outputId": "2afa0f5f-ba3b-4814-ef38-4700b46c7064"
      },
      "execution_count": 7,
      "outputs": [
        {
          "output_type": "stream",
          "name": "stdout",
          "text": [
            "João pode dirigir\n"
          ]
        }
      ]
    },
    {
      "cell_type": "markdown",
      "source": [
        "# **Elif**"
      ],
      "metadata": {
        "id": "9oOt9F-4WejR"
      }
    },
    {
      "cell_type": "code",
      "source": [
        "dia = \"Segunda\"\n",
        "if dia == \"Terça\":\n",
        "    print(\"Hoje fará sol\")\n",
        "else:\n",
        "    print(\"Hoje não fará sol\")"
      ],
      "metadata": {
        "colab": {
          "base_uri": "https://localhost:8080/"
        },
        "id": "XEXaOJAEWjnQ",
        "outputId": "0b74b76d-061c-4f97-f740-38f5ca61f826"
      },
      "execution_count": 8,
      "outputs": [
        {
          "output_type": "stream",
          "name": "stdout",
          "text": [
            "Hoje não fará sol\n"
          ]
        }
      ]
    },
    {
      "cell_type": "code",
      "source": [
        "if dia == \"Terça\":\n",
        "    print(\"Hoje fará sol\")\n",
        "elif dia == \"Segunda\":\n",
        "    print(\"Hoje vai chover\")\n",
        "else:\n",
        "    print(\"Sem previsão do tempo para o dia selecionado\")"
      ],
      "metadata": {
        "colab": {
          "base_uri": "https://localhost:8080/"
        },
        "id": "PP6ryFnNXF4c",
        "outputId": "7c6fa1e3-aeed-4110-e590-7d7827c05c8f"
      },
      "execution_count": 9,
      "outputs": [
        {
          "output_type": "stream",
          "name": "stdout",
          "text": [
            "Hoje vai chover\n"
          ]
        }
      ]
    },
    {
      "cell_type": "markdown",
      "source": [
        "# **Operadores Lógicos**"
      ],
      "metadata": {
        "id": "BCUP3pFTX9xp"
      }
    },
    {
      "cell_type": "code",
      "source": [
        "#Usando mais de uma condição na cláusula if\n",
        "disciplina = input(\"Digite o nome da disciplina: \")\n",
        "nota_final = input(\"Digite a nota final: 0 a 100 \")\n",
        "\n",
        "if disciplina == \"Geografia\" and nota_final > \"70\":\n",
        "    print(\"Parabáns, você foi aprovado\")\n",
        "else:\n",
        "    print(\"Lamento, acho que precisa estudar mais\")"
      ],
      "metadata": {
        "colab": {
          "base_uri": "https://localhost:8080/"
        },
        "id": "co-mrMupYkIx",
        "outputId": "ed311d07-4216-4b8e-ea6d-b80b48a7a21a"
      },
      "execution_count": 12,
      "outputs": [
        {
          "output_type": "stream",
          "name": "stdout",
          "text": [
            "Digite o nome da disciplina: q\n",
            "Digite a nota final: 0 a 100 50\n",
            "Lamento, acho que precisa estudar mais\n"
          ]
        }
      ]
    },
    {
      "cell_type": "code",
      "source": [
        "disciplina = input(\"Digite o nome da disciplina: \")\n",
        "nota_final = input(\"Digite a note final: 0 a 100 \")\n",
        "semestre = input(\"Digite o semestre que você está: 1 a 4 \")\n",
        "\n",
        "if disciplina == \"Geografia\" and nota_final >= \"50\" and int(semestre) != 1:\n",
        "  print(\"Parabéns, você foi aprovado em %s com nota final %r!\"%(disciplina, nota_final))\n",
        "else:\n",
        "    print(\"Lamento, acho que precisa estudar mais\")"
      ],
      "metadata": {
        "colab": {
          "base_uri": "https://localhost:8080/"
        },
        "id": "GI4eM_z4ZO7q",
        "outputId": "b432689a-aa1f-4bb0-ef02-29f97053f0c3"
      },
      "execution_count": 23,
      "outputs": [
        {
          "output_type": "stream",
          "name": "stdout",
          "text": [
            "Digite o nome da disciplina: ciencias\n",
            "Digite a note final: 0 a 100 12\n",
            "Digite o semestre que você está: 1 a 4 2\n",
            "Lamento, acho que precisa estudar mais\n"
          ]
        }
      ]
    },
    {
      "cell_type": "code",
      "source": [
        "\n"
      ],
      "metadata": {
        "id": "77vqjxdOadoB"
      },
      "execution_count": null,
      "outputs": []
    }
  ]
}